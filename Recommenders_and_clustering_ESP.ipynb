{
  "nbformat": 4,
  "nbformat_minor": 0,
  "metadata": {
    "colab": {
      "name": "Recommenders_and_clustering_ESP.ipynb",
      "provenance": [],
      "include_colab_link": true
    },
    "kernelspec": {
      "name": "python3",
      "display_name": "Python 3"
    }
  },
  "cells": [
    {
      "cell_type": "markdown",
      "metadata": {
        "id": "view-in-github",
        "colab_type": "text"
      },
      "source": [
        "<a href=\"https://colab.research.google.com/github/manuelpope/MscIA/blob/main/Recommenders_and_clustering_ESP.ipynb\" target=\"_parent\"><img src=\"https://colab.research.google.com/assets/colab-badge.svg\" alt=\"Open In Colab\"/></a>"
      ]
    },
    {
      "cell_type": "markdown",
      "metadata": {
        "id": "ZOana4Fo5ay9"
      },
      "source": [
        "# **PEC1: Recomendadores y agrupación:**\n",
        "\n",
        "Este archivo de cuaderno interactivo de jupyter le ayudará a comenzar con las operaciones básicas necesarias para resolver los ejercicios del PEC. Utilice este archivo para proporcionar una solución a los ejercicios (tanto el código como los comentarios escritos). Agregue tantas celdas de código y de texto como necesite para resolver todos los ejercicios. Asegúrate de que el archivo se puede ejecutar completamente antes de cargarlo para su entrega."
      ]
    },
    {
      "cell_type": "markdown",
      "metadata": {
        "id": "HIaaM2JA3KNd"
      },
      "source": [
        "### Instalar las librerías suprise en google colab:"
      ]
    },
    {
      "cell_type": "code",
      "metadata": {
        "id": "Wz8OWzk23Np4",
        "colab": {
          "base_uri": "https://localhost:8080/"
        },
        "outputId": "6cd7227a-ff05-4879-df73-d1b655be5318"
      },
      "source": [
        "!pip install scikit-surprise"
      ],
      "execution_count": null,
      "outputs": [
        {
          "output_type": "stream",
          "text": [
            "Collecting scikit-surprise\n",
            "\u001b[?25l  Downloading https://files.pythonhosted.org/packages/97/37/5d334adaf5ddd65da99fc65f6507e0e4599d092ba048f4302fe8775619e8/scikit-surprise-1.1.1.tar.gz (11.8MB)\n",
            "\u001b[K     |████████████████████████████████| 11.8MB 316kB/s \n",
            "\u001b[?25hRequirement already satisfied: joblib>=0.11 in /usr/local/lib/python3.7/dist-packages (from scikit-surprise) (1.0.1)\n",
            "Requirement already satisfied: numpy>=1.11.2 in /usr/local/lib/python3.7/dist-packages (from scikit-surprise) (1.19.5)\n",
            "Requirement already satisfied: scipy>=1.0.0 in /usr/local/lib/python3.7/dist-packages (from scikit-surprise) (1.4.1)\n",
            "Requirement already satisfied: six>=1.10.0 in /usr/local/lib/python3.7/dist-packages (from scikit-surprise) (1.15.0)\n",
            "Building wheels for collected packages: scikit-surprise\n",
            "  Building wheel for scikit-surprise (setup.py) ... \u001b[?25l\u001b[?25hdone\n",
            "  Created wheel for scikit-surprise: filename=scikit_surprise-1.1.1-cp37-cp37m-linux_x86_64.whl size=1617527 sha256=0d74c6703d6954737c1c54515025a781ce79aee3e6c6632316099fb40380a3a9\n",
            "  Stored in directory: /root/.cache/pip/wheels/78/9c/3d/41b419c9d2aff5b6e2b4c0fc8d25c538202834058f9ed110d0\n",
            "Successfully built scikit-surprise\n",
            "Installing collected packages: scikit-surprise\n",
            "Successfully installed scikit-surprise-1.1.1\n"
          ],
          "name": "stdout"
        }
      ]
    },
    {
      "cell_type": "markdown",
      "metadata": {
        "id": "mpZd1kWV5-fc"
      },
      "source": [
        "## **Ejercicio 1: Manipulación de datos con surprise and Pandas:**\n",
        "\n",
        "Este primer ejercicio es para familiarizarse con el conjunto de datos de Jester y cómo realizar la manipulación básica de datos usando Pandas.\n"
      ]
    },
    {
      "cell_type": "markdown",
      "metadata": {
        "id": "21oHTaYA3DxS"
      },
      "source": [
        "a) Cargar la base de datos Jester desde el surprise dataset"
      ]
    },
    {
      "cell_type": "code",
      "metadata": {
        "id": "-h7I2CKT2_Ie"
      },
      "source": [
        "from surprise import Dataset\n",
        "\n",
        "data = Dataset.load_builtin('jester')"
      ],
      "execution_count": null,
      "outputs": []
    },
    {
      "cell_type": "markdown",
      "metadata": {
        "id": "JK6JF_hi3QnT"
      },
      "source": [
        "Convertir los datos a un Pandas dataframe"
      ]
    },
    {
      "cell_type": "code",
      "metadata": {
        "id": "vqywQibj3UZQ"
      },
      "source": [
        "import pandas as pd\n",
        "df = pd.DataFrame(data.__dict__['raw_ratings'], columns=['user_id', 'item_id', 'rating', 'timestamp'])"
      ],
      "execution_count": null,
      "outputs": []
    },
    {
      "cell_type": "markdown",
      "metadata": {
        "id": "W8blmb-f3Y1k"
      },
      "source": [
        "Realizar inspección y manipulación básica de los datos:"
      ]
    },
    {
      "cell_type": "markdown",
      "metadata": {
        "id": "8Jc-xVkm3oZ9"
      },
      "source": [
        "Enumere las 10 primeras entradas del conjunto de datos:\n"
      ]
    },
    {
      "cell_type": "code",
      "metadata": {
        "id": "eZGcdB2X3b7F",
        "colab": {
          "base_uri": "https://localhost:8080/",
          "height": 359
        },
        "outputId": "f079a6fb-585c-402e-ca0b-446cf4e1957c"
      },
      "source": [
        "df.head(10) "
      ],
      "execution_count": null,
      "outputs": [
        {
          "output_type": "execute_result",
          "data": {
            "text/html": [
              "<div>\n",
              "<style scoped>\n",
              "    .dataframe tbody tr th:only-of-type {\n",
              "        vertical-align: middle;\n",
              "    }\n",
              "\n",
              "    .dataframe tbody tr th {\n",
              "        vertical-align: top;\n",
              "    }\n",
              "\n",
              "    .dataframe thead th {\n",
              "        text-align: right;\n",
              "    }\n",
              "</style>\n",
              "<table border=\"1\" class=\"dataframe\">\n",
              "  <thead>\n",
              "    <tr style=\"text-align: right;\">\n",
              "      <th></th>\n",
              "      <th>user_id</th>\n",
              "      <th>item_id</th>\n",
              "      <th>rating</th>\n",
              "      <th>timestamp</th>\n",
              "    </tr>\n",
              "  </thead>\n",
              "  <tbody>\n",
              "    <tr>\n",
              "      <th>0</th>\n",
              "      <td>1</td>\n",
              "      <td>5</td>\n",
              "      <td>0.219</td>\n",
              "      <td>None</td>\n",
              "    </tr>\n",
              "    <tr>\n",
              "      <th>1</th>\n",
              "      <td>1</td>\n",
              "      <td>7</td>\n",
              "      <td>-9.281</td>\n",
              "      <td>None</td>\n",
              "    </tr>\n",
              "    <tr>\n",
              "      <th>2</th>\n",
              "      <td>1</td>\n",
              "      <td>8</td>\n",
              "      <td>-9.281</td>\n",
              "      <td>None</td>\n",
              "    </tr>\n",
              "    <tr>\n",
              "      <th>3</th>\n",
              "      <td>1</td>\n",
              "      <td>13</td>\n",
              "      <td>-6.781</td>\n",
              "      <td>None</td>\n",
              "    </tr>\n",
              "    <tr>\n",
              "      <th>4</th>\n",
              "      <td>1</td>\n",
              "      <td>15</td>\n",
              "      <td>0.875</td>\n",
              "      <td>None</td>\n",
              "    </tr>\n",
              "    <tr>\n",
              "      <th>5</th>\n",
              "      <td>1</td>\n",
              "      <td>16</td>\n",
              "      <td>-9.656</td>\n",
              "      <td>None</td>\n",
              "    </tr>\n",
              "    <tr>\n",
              "      <th>6</th>\n",
              "      <td>1</td>\n",
              "      <td>17</td>\n",
              "      <td>-9.031</td>\n",
              "      <td>None</td>\n",
              "    </tr>\n",
              "    <tr>\n",
              "      <th>7</th>\n",
              "      <td>1</td>\n",
              "      <td>18</td>\n",
              "      <td>-7.469</td>\n",
              "      <td>None</td>\n",
              "    </tr>\n",
              "    <tr>\n",
              "      <th>8</th>\n",
              "      <td>1</td>\n",
              "      <td>19</td>\n",
              "      <td>-8.719</td>\n",
              "      <td>None</td>\n",
              "    </tr>\n",
              "    <tr>\n",
              "      <th>9</th>\n",
              "      <td>1</td>\n",
              "      <td>20</td>\n",
              "      <td>-9.156</td>\n",
              "      <td>None</td>\n",
              "    </tr>\n",
              "  </tbody>\n",
              "</table>\n",
              "</div>"
            ],
            "text/plain": [
              "  user_id item_id  rating timestamp\n",
              "0       1       5   0.219      None\n",
              "1       1       7  -9.281      None\n",
              "2       1       8  -9.281      None\n",
              "3       1      13  -6.781      None\n",
              "4       1      15   0.875      None\n",
              "5       1      16  -9.656      None\n",
              "6       1      17  -9.031      None\n",
              "7       1      18  -7.469      None\n",
              "8       1      19  -8.719      None\n",
              "9       1      20  -9.156      None"
            ]
          },
          "metadata": {
            "tags": []
          },
          "execution_count": 6
        }
      ]
    },
    {
      "cell_type": "markdown",
      "metadata": {
        "id": "c_Sb17O93u_m"
      },
      "source": [
        "¿Cuántas entradas hay en el conjunto de datos?"
      ]
    },
    {
      "cell_type": "code",
      "metadata": {
        "id": "wih425KwUIBN"
      },
      "source": [
        ""
      ],
      "execution_count": null,
      "outputs": []
    },
    {
      "cell_type": "code",
      "metadata": {
        "id": "aM45Besw3iAC",
        "colab": {
          "base_uri": "https://localhost:8080/"
        },
        "outputId": "8e3fdd9c-dd7b-45f3-a139-82689369a4f3"
      },
      "source": [
        "df.shape[0] # 0: number of rows, 1: number of columns/variables"
      ],
      "execution_count": null,
      "outputs": [
        {
          "output_type": "execute_result",
          "data": {
            "text/plain": [
              "1761439"
            ]
          },
          "metadata": {
            "tags": []
          },
          "execution_count": 7
        }
      ]
    },
    {
      "cell_type": "markdown",
      "metadata": {
        "id": "SlaII0nh4BMu"
      },
      "source": [
        "¿Cuántos usuarios y chistes hay en la base de datos?"
      ]
    },
    {
      "cell_type": "code",
      "metadata": {
        "id": "T9iSf4hA38ze",
        "colab": {
          "base_uri": "https://localhost:8080/"
        },
        "outputId": "c582a940-7909-4a05-a302-40f429e024a4"
      },
      "source": [
        "print('Number of users:')\n",
        "df[\"user_id\"].nunique() # number of users"
      ],
      "execution_count": null,
      "outputs": [
        {
          "output_type": "stream",
          "text": [
            "Number of users:\n"
          ],
          "name": "stdout"
        },
        {
          "output_type": "execute_result",
          "data": {
            "text/plain": [
              "59132"
            ]
          },
          "metadata": {
            "tags": []
          },
          "execution_count": 8
        }
      ]
    },
    {
      "cell_type": "code",
      "metadata": {
        "id": "-n4_M_NV4vI1",
        "colab": {
          "base_uri": "https://localhost:8080/"
        },
        "outputId": "28afcfee-6be5-4ec0-8750-8dd6c2b0eeca"
      },
      "source": [
        "print('Number of items:')\n",
        "df[\"item_id\"].nunique() # number of items"
      ],
      "execution_count": null,
      "outputs": [
        {
          "output_type": "stream",
          "text": [
            "Number of items:\n"
          ],
          "name": "stdout"
        },
        {
          "output_type": "execute_result",
          "data": {
            "text/plain": [
              "140"
            ]
          },
          "metadata": {
            "tags": []
          },
          "execution_count": 9
        }
      ]
    },
    {
      "cell_type": "markdown",
      "metadata": {
        "id": "kpzaiu3P4PiI"
      },
      "source": [
        "¿Cuál es la calificación del usuario con user_id = 1 de la chiste con item_id = 5?\n"
      ]
    },
    {
      "cell_type": "code",
      "metadata": {
        "id": "QOkiR0pa4Iw_",
        "colab": {
          "base_uri": "https://localhost:8080/",
          "height": 80
        },
        "outputId": "445cb344-6884-4d30-d671-629892e0e13c"
      },
      "source": [
        "df.loc[(df[\"user_id\"]=='1') & (df[\"item_id\"]=='5')]"
      ],
      "execution_count": null,
      "outputs": [
        {
          "output_type": "execute_result",
          "data": {
            "text/html": [
              "<div>\n",
              "<style scoped>\n",
              "    .dataframe tbody tr th:only-of-type {\n",
              "        vertical-align: middle;\n",
              "    }\n",
              "\n",
              "    .dataframe tbody tr th {\n",
              "        vertical-align: top;\n",
              "    }\n",
              "\n",
              "    .dataframe thead th {\n",
              "        text-align: right;\n",
              "    }\n",
              "</style>\n",
              "<table border=\"1\" class=\"dataframe\">\n",
              "  <thead>\n",
              "    <tr style=\"text-align: right;\">\n",
              "      <th></th>\n",
              "      <th>user_id</th>\n",
              "      <th>item_id</th>\n",
              "      <th>rating</th>\n",
              "      <th>timestamp</th>\n",
              "    </tr>\n",
              "  </thead>\n",
              "  <tbody>\n",
              "    <tr>\n",
              "      <th>0</th>\n",
              "      <td>1</td>\n",
              "      <td>5</td>\n",
              "      <td>0.219</td>\n",
              "      <td>None</td>\n",
              "    </tr>\n",
              "  </tbody>\n",
              "</table>\n",
              "</div>"
            ],
            "text/plain": [
              "  user_id item_id  rating timestamp\n",
              "0       1       5   0.219      None"
            ]
          },
          "metadata": {
            "tags": []
          },
          "execution_count": 10
        }
      ]
    },
    {
      "cell_type": "markdown",
      "metadata": {
        "id": "JO79Ovxs4hy0"
      },
      "source": [
        "b) Filtrar el conjunto de datos:\n",
        "\n",
        "Filtre la base de datos manteniendo solo los elementos que hayan calificado al menos min_item_ratings usuarios y usuarios que hayan calificado al menos los elementos min_user_ratings:"
      ]
    },
    {
      "cell_type": "code",
      "metadata": {
        "id": "XnE8GHL_4X3Q",
        "colab": {
          "base_uri": "https://localhost:8080/"
        },
        "outputId": "78c16975-b559-47bb-d66f-90eb6f82e695"
      },
      "source": [
        "min_item_ratings = 200\n",
        "filter_items = df['item_id'].value_counts() > min_item_ratings\n",
        "filter_items = filter_items[filter_items].index.tolist()\n",
        "\n",
        "min_user_ratings = 130\n",
        "filter_users = df['user_id'].value_counts() > min_user_ratings\n",
        "filter_users = filter_users[filter_users].index.tolist()\n",
        "\n",
        "df_small = df[(df['item_id'].isin(filter_items)) & (df['user_id'].isin(filter_users))]\n",
        "print('The original data frame shape:\\t{}'.format(df.shape))\n",
        "print('The new data frame shape:\\t{}'.format(df_small.shape))"
      ],
      "execution_count": null,
      "outputs": [
        {
          "output_type": "stream",
          "text": [
            "The original data frame shape:\t(1761439, 4)\n",
            "The new data frame shape:\t(1325, 4)\n"
          ],
          "name": "stdout"
        }
      ]
    },
    {
      "cell_type": "markdown",
      "metadata": {
        "id": "41Xp8Gsz59w9"
      },
      "source": [
        "Convierta el marco de datos de nuevo a una variable surprise utilizando las funciones reader y load_from_df:\n",
        "\n",
        "https://surprise.readthedocs.io/en/stable/getting_started.html#use-a-custom-dataset"
      ]
    },
    {
      "cell_type": "code",
      "metadata": {
        "id": "oTSdIzL26Esu"
      },
      "source": [
        "from surprise import Reader \n",
        "reader = Reader(rating_scale=(-10, 10))\n",
        "data_small = Dataset.load_from_df(df_small[['user_id', 'item_id', 'rating']], reader)"
      ],
      "execution_count": null,
      "outputs": []
    },
    {
      "cell_type": "markdown",
      "metadata": {
        "id": "K3WJuunz6cs9"
      },
      "source": [
        "Responde las siguientes preguntas:\n",
        "\n",
        "- ¿Cuántos usuarios y elementos hay en el conjunto de datos reducido?\n"
      ]
    },
    {
      "cell_type": "code",
      "metadata": {
        "id": "6mI3GQ5Q6mZv",
        "colab": {
          "base_uri": "https://localhost:8080/"
        },
        "outputId": "4f64ce1d-86e7-4eb4-9d54-ae99bda8aea6"
      },
      "source": [
        "dfs=data_small.df\n",
        "dfs.shape[0]# numero total "
      ],
      "execution_count": null,
      "outputs": [
        {
          "output_type": "execute_result",
          "data": {
            "text/plain": [
              "1325"
            ]
          },
          "metadata": {
            "tags": []
          },
          "execution_count": 13
        }
      ]
    },
    {
      "cell_type": "code",
      "metadata": {
        "colab": {
          "base_uri": "https://localhost:8080/"
        },
        "id": "fZC6C_VZbW8e",
        "outputId": "9c8628e2-2cc8-4d76-e283-eebb0d620407"
      },
      "source": [
        "dfs[\"user_id\"].nunique()"
      ],
      "execution_count": null,
      "outputs": [
        {
          "output_type": "execute_result",
          "data": {
            "text/plain": [
              "10"
            ]
          },
          "metadata": {
            "tags": []
          },
          "execution_count": 14
        }
      ]
    },
    {
      "cell_type": "markdown",
      "metadata": {
        "id": "DAUCcsZnbaHI"
      },
      "source": [
        "R:// numero total de usuarios en el grupo reducido"
      ]
    },
    {
      "cell_type": "code",
      "metadata": {
        "colab": {
          "base_uri": "https://localhost:8080/"
        },
        "id": "2zs7MyFLblr1",
        "outputId": "a3857362-166b-4569-ebe9-d2046d2f6e71"
      },
      "source": [
        "dfs[\"item_id\"].nunique() # number of items"
      ],
      "execution_count": null,
      "outputs": [
        {
          "output_type": "execute_result",
          "data": {
            "text/plain": [
              "133"
            ]
          },
          "metadata": {
            "tags": []
          },
          "execution_count": 15
        }
      ]
    },
    {
      "cell_type": "markdown",
      "metadata": {
        "id": "IMX0Fyv5GG9c"
      },
      "source": [
        ""
      ]
    },
    {
      "cell_type": "markdown",
      "metadata": {
        "id": "N_s4-9ZS6mwJ"
      },
      "source": [
        "- Proporcione una breve descripción de las principales características del conjunto de datos.\n",
        "\n"
      ]
    },
    {
      "cell_type": "code",
      "metadata": {
        "id": "snFnkYLy6F4u",
        "colab": {
          "base_uri": "https://localhost:8080/",
          "height": 297
        },
        "outputId": "35064dd2-8e92-49b7-f460-af0adae66786"
      },
      "source": [
        "dfs.describe()"
      ],
      "execution_count": null,
      "outputs": [
        {
          "output_type": "execute_result",
          "data": {
            "text/html": [
              "<div>\n",
              "<style scoped>\n",
              "    .dataframe tbody tr th:only-of-type {\n",
              "        vertical-align: middle;\n",
              "    }\n",
              "\n",
              "    .dataframe tbody tr th {\n",
              "        vertical-align: top;\n",
              "    }\n",
              "\n",
              "    .dataframe thead th {\n",
              "        text-align: right;\n",
              "    }\n",
              "</style>\n",
              "<table border=\"1\" class=\"dataframe\">\n",
              "  <thead>\n",
              "    <tr style=\"text-align: right;\">\n",
              "      <th></th>\n",
              "      <th>rating</th>\n",
              "    </tr>\n",
              "  </thead>\n",
              "  <tbody>\n",
              "    <tr>\n",
              "      <th>count</th>\n",
              "      <td>1325.000000</td>\n",
              "    </tr>\n",
              "    <tr>\n",
              "      <th>mean</th>\n",
              "      <td>2.346844</td>\n",
              "    </tr>\n",
              "    <tr>\n",
              "      <th>std</th>\n",
              "      <td>5.032869</td>\n",
              "    </tr>\n",
              "    <tr>\n",
              "      <th>min</th>\n",
              "      <td>-9.844000</td>\n",
              "    </tr>\n",
              "    <tr>\n",
              "      <th>25%</th>\n",
              "      <td>-1.438000</td>\n",
              "    </tr>\n",
              "    <tr>\n",
              "      <th>50%</th>\n",
              "      <td>3.500000</td>\n",
              "    </tr>\n",
              "    <tr>\n",
              "      <th>75%</th>\n",
              "      <td>6.281000</td>\n",
              "    </tr>\n",
              "    <tr>\n",
              "      <th>max</th>\n",
              "      <td>9.969000</td>\n",
              "    </tr>\n",
              "  </tbody>\n",
              "</table>\n",
              "</div>"
            ],
            "text/plain": [
              "            rating\n",
              "count  1325.000000\n",
              "mean      2.346844\n",
              "std       5.032869\n",
              "min      -9.844000\n",
              "25%      -1.438000\n",
              "50%       3.500000\n",
              "75%       6.281000\n",
              "max       9.969000"
            ]
          },
          "metadata": {
            "tags": []
          },
          "execution_count": 16
        }
      ]
    },
    {
      "cell_type": "code",
      "metadata": {
        "colab": {
          "base_uri": "https://localhost:8080/"
        },
        "id": "l00Exnx8b3LA",
        "outputId": "84fc4e2f-d832-42b5-cec2-3051436b773a"
      },
      "source": [
        "dfs.info()"
      ],
      "execution_count": null,
      "outputs": [
        {
          "output_type": "stream",
          "text": [
            "<class 'pandas.core.frame.DataFrame'>\n",
            "Int64Index: 1325 entries, 1568 to 27921\n",
            "Data columns (total 3 columns):\n",
            " #   Column   Non-Null Count  Dtype  \n",
            "---  ------   --------------  -----  \n",
            " 0   user_id  1325 non-null   object \n",
            " 1   item_id  1325 non-null   object \n",
            " 2   rating   1325 non-null   float64\n",
            "dtypes: float64(1), object(2)\n",
            "memory usage: 41.4+ KB\n"
          ],
          "name": "stdout"
        }
      ]
    },
    {
      "cell_type": "markdown",
      "metadata": {
        "id": "bjumn7YMGHmM"
      },
      "source": [
        ""
      ]
    },
    {
      "cell_type": "markdown",
      "metadata": {
        "id": "NI294Lb96xTK"
      },
      "source": [
        "c) Proporcione una representación gráfica de la distribución del número de usuarios con un determinado número de valoraciones. ¿Cuáles son las principales conclusiones que se pueden sacar de este gráfico ?\n"
      ]
    },
    {
      "cell_type": "code",
      "metadata": {
        "id": "2D4UT5GU82zE",
        "colab": {
          "base_uri": "https://localhost:8080/",
          "height": 204
        },
        "outputId": "74fc1109-7a37-491f-f4b6-a8e3a7a0d640"
      },
      "source": [
        "dfs.head()"
      ],
      "execution_count": null,
      "outputs": [
        {
          "output_type": "execute_result",
          "data": {
            "text/html": [
              "<div>\n",
              "<style scoped>\n",
              "    .dataframe tbody tr th:only-of-type {\n",
              "        vertical-align: middle;\n",
              "    }\n",
              "\n",
              "    .dataframe tbody tr th {\n",
              "        vertical-align: top;\n",
              "    }\n",
              "\n",
              "    .dataframe thead th {\n",
              "        text-align: right;\n",
              "    }\n",
              "</style>\n",
              "<table border=\"1\" class=\"dataframe\">\n",
              "  <thead>\n",
              "    <tr style=\"text-align: right;\">\n",
              "      <th></th>\n",
              "      <th>user_id</th>\n",
              "      <th>item_id</th>\n",
              "      <th>rating</th>\n",
              "    </tr>\n",
              "  </thead>\n",
              "  <tbody>\n",
              "    <tr>\n",
              "      <th>1568</th>\n",
              "      <td>46</td>\n",
              "      <td>5</td>\n",
              "      <td>6.469</td>\n",
              "    </tr>\n",
              "    <tr>\n",
              "      <th>1569</th>\n",
              "      <td>46</td>\n",
              "      <td>7</td>\n",
              "      <td>-6.781</td>\n",
              "    </tr>\n",
              "    <tr>\n",
              "      <th>1570</th>\n",
              "      <td>46</td>\n",
              "      <td>8</td>\n",
              "      <td>8.625</td>\n",
              "    </tr>\n",
              "    <tr>\n",
              "      <th>1571</th>\n",
              "      <td>46</td>\n",
              "      <td>13</td>\n",
              "      <td>-8.062</td>\n",
              "    </tr>\n",
              "    <tr>\n",
              "      <th>1572</th>\n",
              "      <td>46</td>\n",
              "      <td>15</td>\n",
              "      <td>-4.156</td>\n",
              "    </tr>\n",
              "  </tbody>\n",
              "</table>\n",
              "</div>"
            ],
            "text/plain": [
              "     user_id item_id  rating\n",
              "1568      46       5   6.469\n",
              "1569      46       7  -6.781\n",
              "1570      46       8   8.625\n",
              "1571      46      13  -8.062\n",
              "1572      46      15  -4.156"
            ]
          },
          "metadata": {
            "tags": []
          },
          "execution_count": 18
        }
      ]
    },
    {
      "cell_type": "code",
      "metadata": {
        "id": "yc9QuX4iaGKy"
      },
      "source": [
        "import matplotlib.pyplot as plt"
      ],
      "execution_count": null,
      "outputs": []
    },
    {
      "cell_type": "code",
      "metadata": {
        "colab": {
          "base_uri": "https://localhost:8080/",
          "height": 390
        },
        "id": "o5EqbFP3aHsU",
        "outputId": "44cd32a1-4fb6-4f51-ea32-ccd7618f4ac1"
      },
      "source": [
        "dfs.head()\n",
        "dfs.groupby('user_id').mean()"
      ],
      "execution_count": null,
      "outputs": [
        {
          "output_type": "execute_result",
          "data": {
            "text/html": [
              "<div>\n",
              "<style scoped>\n",
              "    .dataframe tbody tr th:only-of-type {\n",
              "        vertical-align: middle;\n",
              "    }\n",
              "\n",
              "    .dataframe tbody tr th {\n",
              "        vertical-align: top;\n",
              "    }\n",
              "\n",
              "    .dataframe thead th {\n",
              "        text-align: right;\n",
              "    }\n",
              "</style>\n",
              "<table border=\"1\" class=\"dataframe\">\n",
              "  <thead>\n",
              "    <tr style=\"text-align: right;\">\n",
              "      <th></th>\n",
              "      <th>rating</th>\n",
              "    </tr>\n",
              "    <tr>\n",
              "      <th>user_id</th>\n",
              "      <th></th>\n",
              "    </tr>\n",
              "  </thead>\n",
              "  <tbody>\n",
              "    <tr>\n",
              "      <th>159</th>\n",
              "      <td>4.593955</td>\n",
              "    </tr>\n",
              "    <tr>\n",
              "      <th>227</th>\n",
              "      <td>3.519316</td>\n",
              "    </tr>\n",
              "    <tr>\n",
              "      <th>304</th>\n",
              "      <td>-0.312947</td>\n",
              "    </tr>\n",
              "    <tr>\n",
              "      <th>315</th>\n",
              "      <td>-1.302504</td>\n",
              "    </tr>\n",
              "    <tr>\n",
              "      <th>410</th>\n",
              "      <td>0.652901</td>\n",
              "    </tr>\n",
              "    <tr>\n",
              "      <th>442</th>\n",
              "      <td>3.515684</td>\n",
              "    </tr>\n",
              "    <tr>\n",
              "      <th>46</th>\n",
              "      <td>5.843301</td>\n",
              "    </tr>\n",
              "    <tr>\n",
              "      <th>476</th>\n",
              "      <td>2.484271</td>\n",
              "    </tr>\n",
              "    <tr>\n",
              "      <th>477</th>\n",
              "      <td>3.183782</td>\n",
              "    </tr>\n",
              "    <tr>\n",
              "      <th>701</th>\n",
              "      <td>1.227226</td>\n",
              "    </tr>\n",
              "  </tbody>\n",
              "</table>\n",
              "</div>"
            ],
            "text/plain": [
              "           rating\n",
              "user_id          \n",
              "159      4.593955\n",
              "227      3.519316\n",
              "304     -0.312947\n",
              "315     -1.302504\n",
              "410      0.652901\n",
              "442      3.515684\n",
              "46       5.843301\n",
              "476      2.484271\n",
              "477      3.183782\n",
              "701      1.227226"
            ]
          },
          "metadata": {
            "tags": []
          },
          "execution_count": 20
        }
      ]
    },
    {
      "cell_type": "code",
      "metadata": {
        "colab": {
          "base_uri": "https://localhost:8080/",
          "height": 265
        },
        "id": "41evWMpicStG",
        "outputId": "1d9539cd-96aa-4394-ab38-cf808c25376b"
      },
      "source": [
        "fig,ax =plt.subplots()\n",
        "ax.scatter(dfs.get('user_id'),dfs.get('rating'),alpha=0.1)\n",
        "plt.show()"
      ],
      "execution_count": null,
      "outputs": [
        {
          "output_type": "display_data",
          "data": {
            "image/png": "[encoded data removed]",
            "text/plain": [
              "<Figure size 432x288 with 1 Axes>"
            ]
          },
          "metadata": {
            "tags": [],
            "needs_background": "light"
          }
        }
      ]
    },
    {
      "cell_type": "markdown",
      "metadata": {
        "id": "pMRtA2YoGIju"
      },
      "source": [
        ""
      ]
    },
    {
      "cell_type": "code",
      "metadata": {
        "id": "agziNt53lBQG"
      },
      "source": [
        "#R:Con el grafico de dispersion podemos observar donde es mas propen so el usuario de puntear, puede ser un optimista , pesimista o neutro."
      ],
      "execution_count": null,
      "outputs": []
    },
    {
      "cell_type": "markdown",
      "metadata": {
        "id": "XKXoXUaY7CqK"
      },
      "source": [
        "## **Ejercicio 2: Diferentes formas de diseñar un sistema de recomendación**\n",
        "En este ejercicio estamos explorando diferentes formas de diseñar / entrenar un sistema de recomendación. A menos que se indique lo contrario, este ejercicio se realizará con el conjunto de datos reducido obtenido en el ejercicio anterior.\n"
      ]
    },
    {
      "cell_type": "code",
      "metadata": {
        "id": "Yufa_tCs6yrW"
      },
      "source": [
        "from surprise import SVD\n",
        "import numpy as np\n",
        "from surprise.model_selection import cross_validate"
      ],
      "execution_count": null,
      "outputs": []
    },
    {
      "cell_type": "markdown",
      "metadata": {
        "id": "ywLVjyYL7Vk_"
      },
      "source": [
        "\n",
        "a) Ajuste un recomendador de descomposición de valores singulares utilizando como datos de entrenamiento todo el conjunto de datos reducido. ¿Cuál es la tasa prevista de user_id = 46 del chiste con item_id = 44 ?. ¿Cuál es la discrepancia entre la qualificació prevista y la real? Evalúe el rendimiento de este enfoque utilizando RMSE, MAE y MSE como métricas de precisión.\n"
      ]
    },
    {
      "cell_type": "code",
      "metadata": {
        "id": "JQViGWVF7XUI",
        "colab": {
          "base_uri": "https://localhost:8080/"
        },
        "outputId": "1230506b-76e3-4662-bad8-69c78c1ffd67"
      },
      "source": [
        "SVD_model = SVD()\n",
        "cross_validate(SVD_model, data_small, measures=['RMSE', 'MAE','MSE'], cv=5, verbose=True)"
      ],
      "execution_count": null,
      "outputs": [
        {
          "output_type": "stream",
          "text": [
            "Evaluating RMSE, MAE, MSE of algorithm SVD on 5 split(s).\n",
            "\n",
            "                  Fold 1  Fold 2  Fold 3  Fold 4  Fold 5  Mean    Std     \n",
            "RMSE (testset)    4.1921  4.5442  4.4288  4.8100  4.2764  4.4503  0.2171  \n",
            "MAE (testset)     3.3525  3.6556  3.3878  3.8776  3.2926  3.5132  0.2206  \n",
            "MSE (testset)     17.5735 20.6497 19.6144 23.1363 18.2877 19.8523 1.9554  \n",
            "Fit time          0.07    0.06    0.06    0.06    0.06    0.06    0.00    \n",
            "Test time         0.00    0.00    0.00    0.00    0.00    0.00    0.00    \n"
          ],
          "name": "stdout"
        },
        {
          "output_type": "execute_result",
          "data": {
            "text/plain": [
              "{'fit_time': (0.06836271286010742,\n",
              "  0.05824089050292969,\n",
              "  0.055567026138305664,\n",
              "  0.06095528602600098,\n",
              "  0.05521082878112793),\n",
              " 'test_mae': array([3.35251268, 3.65556833, 3.38778644, 3.87756531, 3.29264792]),\n",
              " 'test_mse': array([17.57351149, 20.64973213, 19.61441079, 23.13632388, 18.28767804]),\n",
              " 'test_rmse': array([4.19207723, 4.54419763, 4.42881596, 4.81002327, 4.27640948]),\n",
              " 'test_time': (0.0020449161529541016,\n",
              "  0.0017876625061035156,\n",
              "  0.002060413360595703,\n",
              "  0.0018050670623779297,\n",
              "  0.001855611801147461)}"
            ]
          },
          "metadata": {
            "tags": []
          },
          "execution_count": 24
        }
      ]
    },
    {
      "cell_type": "code",
      "metadata": {
        "colab": {
          "base_uri": "https://localhost:8080/"
        },
        "id": "1ZmGHctrw9Ee",
        "outputId": "007418ff-461c-4e38-c365-53c85635b176"
      },
      "source": [
        "data=data_small.build_full_trainset()\n",
        "SVD_model.fit(data)"
      ],
      "execution_count": null,
      "outputs": [
        {
          "output_type": "execute_result",
          "data": {
            "text/plain": [
              "<surprise.prediction_algorithms.matrix_factorization.SVD at 0x7fed31bd08d0>"
            ]
          },
          "metadata": {
            "tags": []
          },
          "execution_count": 25
        }
      ]
    },
    {
      "cell_type": "markdown",
      "metadata": {
        "id": "I2HDbqvqGJsy"
      },
      "source": [
        ""
      ]
    },
    {
      "cell_type": "code",
      "metadata": {
        "colab": {
          "base_uri": "https://localhost:8080/"
        },
        "id": "wE2o5I5Hz_Sg",
        "outputId": "4b887078-cb79-4ae3-a43b-0dc0008a994a"
      },
      "source": [
        "valor_predict=SVD_model.predict(46,44)\n",
        "print(SVD_model.predict(46,44))\n"
      ],
      "execution_count": null,
      "outputs": [
        {
          "output_type": "stream",
          "text": [
            "user: 46         item: 44         r_ui = None   est = 2.35   {'was_impossible': False}\n"
          ],
          "name": "stdout"
        }
      ]
    },
    {
      "cell_type": "code",
      "metadata": {
        "colab": {
          "base_uri": "https://localhost:8080/",
          "height": 80
        },
        "id": "qEsRVJd00l1K",
        "outputId": "4cccb680-23e2-46ee-91c7-4ec2f7c40153"
      },
      "source": [
        "filterui=dfs.query('user_id == \"46\" and item_id == \"44\"')\n",
        "filterui"
      ],
      "execution_count": null,
      "outputs": [
        {
          "output_type": "execute_result",
          "data": {
            "text/html": [
              "<div>\n",
              "<style scoped>\n",
              "    .dataframe tbody tr th:only-of-type {\n",
              "        vertical-align: middle;\n",
              "    }\n",
              "\n",
              "    .dataframe tbody tr th {\n",
              "        vertical-align: top;\n",
              "    }\n",
              "\n",
              "    .dataframe thead th {\n",
              "        text-align: right;\n",
              "    }\n",
              "</style>\n",
              "<table border=\"1\" class=\"dataframe\">\n",
              "  <thead>\n",
              "    <tr style=\"text-align: right;\">\n",
              "      <th></th>\n",
              "      <th>user_id</th>\n",
              "      <th>item_id</th>\n",
              "      <th>rating</th>\n",
              "    </tr>\n",
              "  </thead>\n",
              "  <tbody>\n",
              "    <tr>\n",
              "      <th>1578</th>\n",
              "      <td>46</td>\n",
              "      <td>44</td>\n",
              "      <td>6.75</td>\n",
              "    </tr>\n",
              "  </tbody>\n",
              "</table>\n",
              "</div>"
            ],
            "text/plain": [
              "     user_id item_id  rating\n",
              "1578      46      44    6.75"
            ]
          },
          "metadata": {
            "tags": []
          },
          "execution_count": 27
        }
      ]
    },
    {
      "cell_type": "code",
      "metadata": {
        "id": "BccJfwUj3R5k"
      },
      "source": [
        "#Se observa una fuerte diferencia entre el valor esperado y el que se ha predicho. y\n",
        "#este concuerda con nuestro rmse  promedio de 4.4."
      ],
      "execution_count": null,
      "outputs": []
    },
    {
      "cell_type": "code",
      "metadata": {
        "colab": {
          "base_uri": "https://localhost:8080/"
        },
        "id": "CuoRU9Ru3g9O",
        "outputId": "bd6e94be-8e9f-45de-d961-d5bfc954ffc4"
      },
      "source": [
        "error_percert=np.absolute((valor_predict[3]-filterui['rating'])*100/filterui['rating'])\n",
        "print('error porcentual', error_percert)"
      ],
      "execution_count": null,
      "outputs": [
        {
          "output_type": "stream",
          "text": [
            "error porcentual 1578    65.231944\n",
            "Name: rating, dtype: float64\n"
          ],
          "name": "stdout"
        }
      ]
    },
    {
      "cell_type": "code",
      "metadata": {
        "id": "QqCqSco7O-Qi"
      },
      "source": [
        "#Se obtuvieron diferentes MAE  y RMSE o MSE debido que la data presenta ourliers o alta varianza que \n",
        "#llega a afectar la medicion de RMSE y MAE es insensible a estas."
      ],
      "execution_count": null,
      "outputs": []
    },
    {
      "cell_type": "markdown",
      "metadata": {
        "id": "hbdYrfyT7Xio"
      },
      "source": [
        "b) Ajuste el mismo recomendador pero ahora dividiendo los datos en subconjuntos de entrenamiento y prueba en tres proporciones diferentes (entrenamiento / prueba): 90/10, 75/25 y 10/90. Compare el RMSE, MAE y MSE promedio cuando utilice diferentes fracciones para los subconjuntos de entrenamiento y prueba. ¿Qué proporción produce mejores resultados de predicción? Justifica tu respuesta.\n"
      ]
    },
    {
      "cell_type": "code",
      "metadata": {
        "id": "N8Yz1zl37Zdg"
      },
      "source": [
        "from surprise import accuracy\n",
        "from surprise.model_selection import train_test_split\n",
        "#division subgrupos\n",
        "t_90_10, test_90_10 = train_test_split(data_small, test_size=.10)\n",
        "t_75_25, test_75_25 = train_test_split(data_small, test_size=.25)\n",
        "t_10_90, test_10_90 = train_test_split(data_small, test_size=.90)\n",
        "\n"
      ],
      "execution_count": null,
      "outputs": []
    },
    {
      "cell_type": "code",
      "metadata": {
        "colab": {
          "base_uri": "https://localhost:8080/"
        },
        "id": "WgVtUQ_8-LMR",
        "outputId": "22ae3489-a13c-4962-c6dd-76532ca5c088"
      },
      "source": [
        "# Precision grupo train 90%\n",
        "algo90 = SVD()\n",
        "algo90.fit(t_90_10)\n",
        "predictions90 = algo90.test(test_90_10)\n",
        "\n",
        "# Computacion de errores\n",
        "print(accuracy.rmse(predictions90),accuracy.mae(predictions90),accuracy.mse(predictions90))\n"
      ],
      "execution_count": null,
      "outputs": [
        {
          "output_type": "stream",
          "text": [
            "RMSE: 4.6460\n",
            "MAE:  3.5684\n",
            "MSE: 21.5853\n",
            "4.646000844248637 3.568445724543712 21.58532384475905\n"
          ],
          "name": "stdout"
        }
      ]
    },
    {
      "cell_type": "code",
      "metadata": {
        "colab": {
          "base_uri": "https://localhost:8080/"
        },
        "id": "I4Y4vll8-eII",
        "outputId": "fd90c13d-5117-40ba-a502-ad1ff6cd6510"
      },
      "source": [
        "# Precision grupo train 75%\n",
        "algo75 = SVD()\n",
        "algo75.fit(t_75_25)\n",
        "predictions75 = algo75.test(test_75_25)\n",
        "# Computacion de errores\n",
        "print(accuracy.rmse(predictions75),accuracy.mae(predictions75),accuracy.mse(predictions75))\n"
      ],
      "execution_count": null,
      "outputs": [
        {
          "output_type": "stream",
          "text": [
            "RMSE: 4.5635\n",
            "MAE:  3.5743\n",
            "MSE: 20.8259\n",
            "4.563534942019094 3.5742950274140957 20.825851167029214\n"
          ],
          "name": "stdout"
        }
      ]
    },
    {
      "cell_type": "code",
      "metadata": {
        "colab": {
          "base_uri": "https://localhost:8080/"
        },
        "id": "COsVqX9B-duB",
        "outputId": "d5c7efa6-a425-4b75-97a1-e26292bcdeeb"
      },
      "source": [
        "# Precision grupo train 10%\n",
        "algo10 = SVD()\n",
        "algo10.fit(t_10_90)\n",
        "predictions10 = algo10.test(test_10_90)\n",
        "# Computacion de errores\n",
        "print(accuracy.rmse(predictions10),accuracy.mae(predictions10),accuracy.mse(predictions10))\n"
      ],
      "execution_count": null,
      "outputs": [
        {
          "output_type": "stream",
          "text": [
            "RMSE: 4.6481\n",
            "MAE:  3.7675\n",
            "MSE: 21.6044\n",
            "4.648055982351023 3.767462200683949 21.604424415069136\n"
          ],
          "name": "stdout"
        }
      ]
    },
    {
      "cell_type": "markdown",
      "metadata": {
        "id": "LuKck3bo_gwX"
      },
      "source": [
        "***Respuesta:***\n",
        "Parecen resultados similares midiendo el MAE, pero observamos una gran variacion con MSE respecto al RMSE. Demostrando la alta varianza y cantidad de outliers, si tuvieramos que elegir un modelo seria el 75/25 este presenta las medidas de errores menores.\n",
        "\n",
        "\n",
        "\n",
        "\n"
      ]
    },
    {
      "cell_type": "markdown",
      "metadata": {
        "id": "LDlHHyyM7Zm9"
      },
      "source": [
        "c) Ajuste y evalúe ahora el recomendador de SVD utilizando un procedimiento de validación cruzada de 5 veces (cv = 5). Compare los resultados medios con el rendimiento obtenido en los apartados anteriores. Explique las diferencias de forma razonada.\n"
      ]
    },
    {
      "cell_type": "code",
      "metadata": {
        "id": "D1YTGAp97bJc",
        "colab": {
          "base_uri": "https://localhost:8080/"
        },
        "outputId": "01b86ca4-7e03-4bbd-d8d6-4b7c5d9731c3"
      },
      "source": [
        "from surprise.model_selection import KFold\n",
        "from surprise.model_selection import cross_validate\n",
        "\n",
        "\n",
        "# define a cross-validation iterator\n",
        "kf = KFold(n_splits=5)\n",
        "\n",
        "algonFolds = SVD()\n",
        "\n",
        "for trainset, testset in kf.split(data_small):\n",
        "\n",
        "    # train and test algorithm.\n",
        "    algonFolds.fit(trainset)\n",
        "    predictions = algonFolds.test(testset)\n",
        "\n",
        "    # Compute and print Root Mean Squared Error\n",
        "    accuracy.rmse(predictions, verbose=True)\n",
        "\n",
        "cross_validate(algonFolds, data_small, measures=['RMSE', 'MAE','MSE'], cv=5, verbose=True)\n"
      ],
      "execution_count": null,
      "outputs": [
        {
          "output_type": "stream",
          "text": [
            "RMSE: 4.0845\n",
            "RMSE: 4.7985\n",
            "RMSE: 4.6420\n",
            "RMSE: 4.3308\n",
            "RMSE: 4.2900\n",
            "Evaluating RMSE, MAE, MSE of algorithm SVD on 5 split(s).\n",
            "\n",
            "                  Fold 1  Fold 2  Fold 3  Fold 4  Fold 5  Mean    Std     \n",
            "RMSE (testset)    4.2319  4.7553  4.2916  4.2002  4.6864  4.4331  0.2378  \n",
            "MAE (testset)     3.3629  3.6087  3.4562  3.1689  3.7959  3.4785  0.2133  \n",
            "MSE (testset)     17.9088 22.6131 18.4176 17.6419 21.9628 19.7088 2.1305  \n",
            "Fit time          0.06    0.05    0.05    0.06    0.06    0.06    0.00    \n",
            "Test time         0.00    0.00    0.00    0.00    0.00    0.00    0.00    \n"
          ],
          "name": "stdout"
        },
        {
          "output_type": "execute_result",
          "data": {
            "text/plain": [
              "{'fit_time': (0.05814337730407715,\n",
              "  0.05459117889404297,\n",
              "  0.054206132888793945,\n",
              "  0.05621671676635742,\n",
              "  0.06164145469665527),\n",
              " 'test_mae': array([3.36294523, 3.60873558, 3.45621283, 3.16887079, 3.79591143]),\n",
              " 'test_mse': array([17.90876819, 22.61312718, 18.41761383, 17.64185495, 21.96280032]),\n",
              " 'test_rmse': array([4.23187526, 4.75532619, 4.29157475, 4.20022082, 4.68644858]),\n",
              " 'test_time': (0.002794027328491211,\n",
              "  0.0018341541290283203,\n",
              "  0.0018320083618164062,\n",
              "  0.004400491714477539,\n",
              "  0.0018906593322753906)}"
            ]
          },
          "metadata": {
            "tags": []
          },
          "execution_count": 103
        }
      ]
    },
    {
      "cell_type": "markdown",
      "metadata": {
        "id": "lxiFPkgMw4wu"
      },
      "source": [
        "***Respuesta: ***\n",
        "Como se puede observar la media fue menor en las tres medidas de errores que puntos anteriores, es una buena forma de evitar que los outliers arruinen las medidas de error.\n",
        "\n",
        "\n"
      ]
    },
    {
      "cell_type": "markdown",
      "metadata": {
        "id": "wFmQ4FDSGLVX"
      },
      "source": [
        ""
      ]
    },
    {
      "cell_type": "markdown",
      "metadata": {
        "id": "ERCyqH-C7bfW"
      },
      "source": [
        "d) Use una validación cruzada de 5 veces para comparar el desempeño de las versiones sesgadas e imparciales del recomendador de SVD descrito en https://surprise.readthedocs.io/en/stable/matrix_factorization.html#surprise.prediction_algorithms.matrix_factorization. SVD. ¿Qué método proporciona una mejor precisión de predicción? ¿Por qué?\n"
      ]
    },
    {
      "cell_type": "code",
      "metadata": {
        "id": "VDlFjFOp7c2Z",
        "colab": {
          "base_uri": "https://localhost:8080/"
        },
        "outputId": "4356c5bd-c46d-43f5-b0ab-2a89c8656e70"
      },
      "source": [
        "from surprise.model_selection import KFold\n",
        "from surprise.model_selection import cross_validate\n",
        "from surprise import SVDpp\n",
        "\n",
        "\n",
        "\n",
        "# define a cross-validation iterator\n",
        "kf = KFold(n_splits=5)\n",
        "\n",
        "algonFolds = SVDpp()\n",
        "\n",
        "for trainset, testset in kf.split(data_small):\n",
        "\n",
        "    # train and test algorithm.\n",
        "    algonFolds.fit(trainset)\n",
        "    predictions = algonFolds.test(testset)\n",
        "\n",
        "    # Compute and print Root Mean Squared Error\n",
        "    accuracy.rmse(predictions, verbose=True)\n",
        "\n",
        "cross_validate(algonFolds, data_small, measures=['RMSE', 'MAE','MSE'], cv=5, verbose=True)\n"
      ],
      "execution_count": null,
      "outputs": [
        {
          "output_type": "stream",
          "text": [
            "RMSE: 4.6243\n",
            "RMSE: 4.6338\n",
            "RMSE: 4.2878\n",
            "RMSE: 4.6847\n",
            "RMSE: 4.3997\n",
            "Evaluating RMSE, MAE, MSE of algorithm SVDpp on 5 split(s).\n",
            "\n",
            "                  Fold 1  Fold 2  Fold 3  Fold 4  Fold 5  Mean    Std     \n",
            "RMSE (testset)    4.7257  4.5398  4.4836  4.7095  4.1761  4.5269  0.1990  \n",
            "MAE (testset)     3.6160  3.5164  3.4197  3.6363  3.4401  3.5257  0.0884  \n",
            "MSE (testset)     22.3327 20.6099 20.1023 22.1793 17.4397 20.5328 1.7725  \n",
            "Fit time          1.43    1.43    1.42    1.44    1.43    1.43    0.01    \n",
            "Test time         0.03    0.03    0.03    0.03    0.03    0.03    0.00    \n"
          ],
          "name": "stdout"
        },
        {
          "output_type": "execute_result",
          "data": {
            "text/plain": [
              "{'fit_time': (1.4273407459259033,\n",
              "  1.430363655090332,\n",
              "  1.41572904586792,\n",
              "  1.4359772205352783,\n",
              "  1.425424575805664),\n",
              " 'test_mae': array([3.61604989, 3.51641242, 3.41972442, 3.63634991, 3.44006192]),\n",
              " 'test_mse': array([22.33269755, 20.60987643, 20.10231476, 22.17928663, 17.43969269]),\n",
              " 'test_rmse': array([4.72574836, 4.53981018, 4.4835605 , 4.709489  , 4.17608581]),\n",
              " 'test_time': (0.030210018157958984,\n",
              "  0.029132604598999023,\n",
              "  0.029407024383544922,\n",
              "  0.029073715209960938,\n",
              "  0.029963970184326172)}"
            ]
          },
          "metadata": {
            "tags": []
          },
          "execution_count": 104
        }
      ]
    },
    {
      "cell_type": "markdown",
      "metadata": {
        "id": "nhSVSub1522o"
      },
      "source": [
        "***Respuesta:: ***\n",
        "\n",
        "Se observa que el metodo SVDpp tiene mayor error, siendo mejor el modelo anterior de SVD, esto es debido que toma mayor penalidad sobre outliers haceindo que el sistema se aleja mas de un ajuste optimo.\n"
      ]
    },
    {
      "cell_type": "markdown",
      "metadata": {
        "id": "8mAE6x1oGL8R"
      },
      "source": [
        ""
      ]
    },
    {
      "cell_type": "markdown",
      "metadata": {
        "id": "LxjLyuhd8E9d"
      },
      "source": [
        "## **Ejercicio 3: Comparar algoritmos de agrupamiento con datos sintéticos**\n",
        "En esta sección, comparará dos de los algoritmos de agrupación en clúster más comunes que utilizan datos generados sintéticamente.\n",
        "\n"
      ]
    },
    {
      "cell_type": "markdown",
      "metadata": {
        "id": "WStGP4yB8Ii-"
      },
      "source": [
        "a) Utilice la función make_blobs de la biblioteca sklearn para generar 1500 observaciones bidimensionales distribuidas equitativamente en tres grupos centrados en las posiciones (0,0), (4,4) y (6,6). La descripción de la función se puede encontrar aquí:\n",
        "https://scikit-learn.org/stable/modules/generated/sklearn.datasets.make_blobs.html\n"
      ]
    },
    {
      "cell_type": "code",
      "metadata": {
        "id": "UeOcS8ZT8KPF"
      },
      "source": [
        "from sklearn.datasets import make_blobs\n",
        "X, y = make_blobs(n_samples=1500, centers=[(0,0),(4,4),(6,6)], n_features=2,random_state=0)"
      ],
      "execution_count": null,
      "outputs": []
    },
    {
      "cell_type": "code",
      "metadata": {
        "colab": {
          "base_uri": "https://localhost:8080/"
        },
        "id": "3mD5whIu6MYA",
        "outputId": "5b5b0565-89f7-427a-d548-f0e7477ab711"
      },
      "source": [
        "len(X),len(y)\n"
      ],
      "execution_count": null,
      "outputs": [
        {
          "output_type": "execute_result",
          "data": {
            "text/plain": [
              "(1500, 1500)"
            ]
          },
          "metadata": {
            "tags": []
          },
          "execution_count": 94
        }
      ]
    },
    {
      "cell_type": "markdown",
      "metadata": {
        "id": "S7GZ6M8S8KYy"
      },
      "source": [
        "b) Agrupar los datos usando un algoritmo de k-medias con k = 3 y un método de agrupamiento jerárquico / aglomerativo con tres grupos. Represente gráficamente los resultados con diagramas de dispersión usando diferentes colores para cada uno de los grupos identificados por los dos métodos. Compare los resultados de la agrupación en clústeres. ¿Qué método es mejor cuando el verdadero centroide de los grupos se acerca?\n"
      ]
    },
    {
      "cell_type": "code",
      "metadata": {
        "id": "C-vhvEux8Lib",
        "colab": {
          "base_uri": "https://localhost:8080/",
          "height": 282
        },
        "outputId": "54301e6f-59b2-478e-bf78-5a91b00f07a1"
      },
      "source": [
        "from sklearn.cluster import KMeans\n",
        "import numpy as np\n",
        "kmeans = KMeans(n_clusters=3, random_state=0).fit(X)\n",
        "y_predict=kmeans.predict(X)\n",
        "plt.scatter(X[:, 0], X[:, 1], c=y_predict, s=50, cmap='viridis')\n",
        "\n",
        "centers = kmeans.cluster_centers_\n",
        "plt.scatter(centers[:, 0], centers[:, 1], c='black', s=200, alpha=0.5)"
      ],
      "execution_count": null,
      "outputs": [
        {
          "output_type": "execute_result",
          "data": {
            "text/plain": [
              "<matplotlib.collections.PathCollection at 0x7fed0a681c50>"
            ]
          },
          "metadata": {
            "tags": []
          },
          "execution_count": 95
        },
        {
          "output_type": "display_data",
          "data": {
            "image/png": "[encoded data removed]",
            "text/plain": [
              "<Figure size 432x288 with 1 Axes>"
            ]
          },
          "metadata": {
            "tags": [],
            "needs_background": "light"
          }
        }
      ]
    },
    {
      "cell_type": "code",
      "metadata": {
        "colab": {
          "base_uri": "https://localhost:8080/",
          "height": 364
        },
        "id": "eOcoCpLhTsBw",
        "outputId": "3d712584-c091-42eb-c25a-3ee15de14cee"
      },
      "source": [
        "from scipy.cluster.hierarchy import dendrogram , linkage\n",
        "from matplotlib import pyplot as plt\n",
        "# Ge nerar l a m a t r i z de e n l a c e ( e n l a c e c o m p l e t o )\n",
        "enlace = linkage ( X , method = 'complete' , metric =  'euclidean'  )\n",
        "plt.figure ( figsize =(25 , 10 ) )\n",
        "plt.title ( 'Dendrograma de agrupamiento j e r a r q u i c o ', fontsize =20)\n",
        "plt.xlabel ( 'points' , fontsize =20)\n",
        "plt.ylabel ( ' D i s t a n c i a ', fontsize =20)\n",
        "dendrogram ( enlace , orientation = 'top' , no_labels = True )\n",
        "plt.show( )"
      ],
      "execution_count": null,
      "outputs": [
        {
          "output_type": "display_data",
          "data": {
            "image/png": "[encoded data removed]",
            "text/plain": [
              "<Figure size 1800x720 with 1 Axes>"
            ]
          },
          "metadata": {
            "tags": [],
            "needs_background": "light"
          }
        }
      ]
    },
    {
      "cell_type": "markdown",
      "metadata": {
        "id": "aCIQw1ZJGNKV"
      },
      "source": [
        "***Respuesta***\n",
        "\n",
        "Observando los resultados de los clusters , el kmeans termina siendo mas eficaz para determinar los grupos y a su vez los centros (centroides) de los puntos.\n"
      ]
    },
    {
      "cell_type": "markdown",
      "metadata": {
        "id": "CTH9gqO-8Lqm"
      },
      "source": [
        "c) Repita las tareas de las dos secciones anteriores, pero ahora genere las observaciones con las siguientes varianzas desiguales: 1, 2.5 y 0.5 respectivamente. Comente los resultados."
      ]
    },
    {
      "cell_type": "code",
      "metadata": {
        "id": "LECZVnpe8MJM",
        "colab": {
          "base_uri": "https://localhost:8080/",
          "height": 282
        },
        "outputId": "94ec792f-7333-468b-fe27-ecf47e5b0b7e"
      },
      "source": [
        "X, y = make_blobs(n_samples=1500, centers=[(0,0),(4,4),(6,6)],\n",
        "                  n_features=2,random_state=1,cluster_std=2.5)\n",
        "kmeans = KMeans(n_clusters=3, random_state=1).fit(X)\n",
        "y_predict=kmeans.predict(X)\n",
        "y_predict\n",
        "plt.scatter(X[:, 0], X[:, 1], c=y_predict, s=50, cmap='viridis')\n",
        "\n",
        "centers = kmeans.cluster_centers_\n",
        "plt.scatter(centers[:, 0], centers[:, 1], c='black', s=200, alpha=0.5)"
      ],
      "execution_count": null,
      "outputs": [
        {
          "output_type": "execute_result",
          "data": {
            "text/plain": [
              "<matplotlib.collections.PathCollection at 0x7fed09f17c90>"
            ]
          },
          "metadata": {
            "tags": []
          },
          "execution_count": 97
        },
        {
          "output_type": "display_data",
          "data": {
            "image/png": "[encoded data removed]",
            "text/plain": [
              "<Figure size 432x288 with 1 Axes>"
            ]
          },
          "metadata": {
            "tags": [],
            "needs_background": "light"
          }
        }
      ]
    },
    {
      "cell_type": "code",
      "metadata": {
        "colab": {
          "base_uri": "https://localhost:8080/",
          "height": 364
        },
        "id": "-Y9qoeO1-Fuj",
        "outputId": "d615c662-0776-4c28-ecb6-a01404908146"
      },
      "source": [
        "# Ge nerar l a m a t r i z de e n l a c e ( e n l a c e c o m p l e t o )\n",
        "enlace = linkage ( X , method = 'complete' , metric =  'euclidean'  )\n",
        "plt.figure ( figsize =(25 , 10 ) )\n",
        "plt.title ( 'Dendrograma de agrupamiento j e r a r q u i c o ', fontsize =20)\n",
        "plt.xlabel ( 'points' , fontsize =20)\n",
        "plt.ylabel ( ' D i s t a n c i a ', fontsize =20)\n",
        "dendrogram ( enlace , orientation = 'top' , no_labels = True )\n",
        "plt.show( )"
      ],
      "execution_count": null,
      "outputs": [
        {
          "output_type": "display_data",
          "data": {
            "image/png": "[encoded data removed]",
            "text/plain": [
              "<Figure size 1800x720 with 1 Axes>"
            ]
          },
          "metadata": {
            "tags": [],
            "needs_background": "light"
          }
        }
      ]
    },
    {
      "cell_type": "code",
      "metadata": {
        "colab": {
          "base_uri": "https://localhost:8080/",
          "height": 282
        },
        "id": "YdWpN0VrtPGH",
        "outputId": "966c8fb5-521d-4a4e-ff2c-8d4c0965073b"
      },
      "source": [
        "X, y = make_blobs(n_samples=1500, centers=[(0,0),(4,4),(6,6)],\n",
        "                  n_features=2,random_state=1,cluster_std=1.0)\n",
        "kmeans = KMeans(n_clusters=3, random_state=1).fit(X)\n",
        "y_predict=kmeans.predict(X)\n",
        "y_predict\n",
        "plt.scatter(X[:, 0], X[:, 1], c=y_predict, s=50, cmap='viridis')\n",
        "\n",
        "centers = kmeans.cluster_centers_\n",
        "plt.scatter(centers[:, 0], centers[:, 1], c='black', s=200, alpha=0.5)"
      ],
      "execution_count": null,
      "outputs": [
        {
          "output_type": "execute_result",
          "data": {
            "text/plain": [
              "<matplotlib.collections.PathCollection at 0x7fed0a1b02d0>"
            ]
          },
          "metadata": {
            "tags": []
          },
          "execution_count": 99
        },
        {
          "output_type": "display_data",
          "data": {
            "image/png": "[encoded data removed]",
            "text/plain": [
              "<Figure size 432x288 with 1 Axes>"
            ]
          },
          "metadata": {
            "tags": [],
            "needs_background": "light"
          }
        }
      ]
    },
    {
      "cell_type": "code",
      "metadata": {
        "colab": {
          "base_uri": "https://localhost:8080/",
          "height": 364
        },
        "id": "ym_lhUul-Tt5",
        "outputId": "18b99865-e4fc-46cd-a6fd-17d50561f2b5"
      },
      "source": [
        "# Ge nerar l a m a t r i z de e n l a c e ( e n l a c e c o m p l e t o )\n",
        "enlace = linkage ( X , method = 'complete' , metric =  'euclidean'  )\n",
        "plt.figure ( figsize =(25 , 10 ) )\n",
        "plt.title ( 'Dendrograma de agrupamiento j e r a r q u i c o ', fontsize =20)\n",
        "plt.xlabel ( 'points' , fontsize =20)\n",
        "plt.ylabel ( ' D i s t a n c i a ', fontsize =20)\n",
        "dendrogram ( enlace , orientation = 'top' , no_labels = True )\n",
        "plt.show( )"
      ],
      "execution_count": null,
      "outputs": [
        {
          "output_type": "display_data",
          "data": {
            "image/png": "[encoded data removed]",
            "text/plain": [
              "<Figure size 1800x720 with 1 Axes>"
            ]
          },
          "metadata": {
            "tags": [],
            "needs_background": "light"
          }
        }
      ]
    },
    {
      "cell_type": "code",
      "metadata": {
        "colab": {
          "base_uri": "https://localhost:8080/",
          "height": 282
        },
        "id": "3AxIlmmctP3C",
        "outputId": "143445b8-8096-4acb-94b2-08d43cf8f86f"
      },
      "source": [
        "X, y = make_blobs(n_samples=1500, centers=[(0,0),(4,4),(6,6)],\n",
        "                  n_features=2,random_state=1,cluster_std=0.5)\n",
        "kmeans = KMeans(n_clusters=3, random_state=1).fit(X)\n",
        "y_predict=kmeans.predict(X)\n",
        "y_predict\n",
        "plt.scatter(X[:, 0], X[:, 1], c=y_predict, s=50, cmap='viridis')\n",
        "\n",
        "centers = kmeans.cluster_centers_\n",
        "plt.scatter(centers[:, 0], centers[:, 1], c='black', s=200, alpha=0.5)"
      ],
      "execution_count": null,
      "outputs": [
        {
          "output_type": "execute_result",
          "data": {
            "text/plain": [
              "<matplotlib.collections.PathCollection at 0x7fed0b124350>"
            ]
          },
          "metadata": {
            "tags": []
          },
          "execution_count": 101
        },
        {
          "output_type": "display_data",
          "data": {
            "image/png": "[encoded data removed]",
            "text/plain": [
              "<Figure size 432x288 with 1 Axes>"
            ]
          },
          "metadata": {
            "tags": [],
            "needs_background": "light"
          }
        }
      ]
    },
    {
      "cell_type": "markdown",
      "metadata": {
        "id": "4HzxLBJXGNr4"
      },
      "source": [
        ""
      ]
    },
    {
      "cell_type": "code",
      "metadata": {
        "colab": {
          "base_uri": "https://localhost:8080/",
          "height": 364
        },
        "id": "nAIWu9CD-XSx",
        "outputId": "8a96f1fd-8ff2-46fa-d563-0a506afa3dd5"
      },
      "source": [
        "# Ge nerar l a m a t r i z de e n l a c e ( e n l a c e c o m p l e t o )\n",
        "enlace = linkage ( X , method = 'complete' , metric =  'euclidean'  )\n",
        "plt.figure ( figsize =(25 , 10 ) )\n",
        "plt.title ( 'Dendrograma de agrupamiento j e r a r q u i c o ', fontsize =20)\n",
        "plt.xlabel ( 'points' , fontsize =20)\n",
        "plt.ylabel ( ' D i s t a n c i a ', fontsize =20)\n",
        "dendrogram ( enlace , orientation = 'top' , no_labels = True )\n",
        "plt.show( )"
      ],
      "execution_count": null,
      "outputs": [
        {
          "output_type": "display_data",
          "data": {
            "image/png": "[encoded data removed]",
            "text/plain": [
              "<Figure size 1800x720 with 1 Axes>"
            ]
          },
          "metadata": {
            "tags": [],
            "needs_background": "light"
          }
        }
      ]
    },
    {
      "cell_type": "markdown",
      "metadata": {
        "id": "GXqfK5wMVF8L"
      },
      "source": [
        "***Respuesta::***\n",
        "\n",
        "Al generar sinteticamente los datos con diferentes desviaciones estandars podemos observar facilmente que kmeans siempre pudo separar e indentificar los centroides a pesar de la diferente dispersion de la data en cada bloque , mientras que la estructura de arbol solo en una situacion pudo determinar los 3 grupos correspondientes."
      ]
    }
  ]
}