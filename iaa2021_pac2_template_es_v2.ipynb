{
  "nbformat": 4,
  "nbformat_minor": 0,
  "metadata": {
    "colab": {
      "name": "iaa2021_pac2_template_es_v2.ipynb",
      "provenance": [],
      "collapsed_sections": [
        "-kRePYp-EGzP",
        "ZHUoHxYBB6jo"
      ],
      "toc_visible": true,
      "include_colab_link": true
    },
    "kernelspec": {
      "name": "python3",
      "display_name": "Python 3"
    }
  },
  "cells": [
    {
      "cell_type": "markdown",
      "metadata": {
        "id": "view-in-github",
        "colab_type": "text"
      },
      "source": [
        "<a href=\"https://colab.research.google.com/github/manuelpope/MscIA/blob/main/iaa2021_pac2_template_es_v2.ipynb\" target=\"_parent\"><img src=\"https://colab.research.google.com/assets/colab-badge.svg\" alt=\"Open In Colab\"/></a>"
      ]
    },
    {
      "cell_type": "markdown",
      "metadata": {
        "id": "yDeEOLH7Fzc8"
      },
      "source": [
        "##### M1.304 · IAA · PEC2 · 2020-21 · 2\n",
        "##### Màster Enginyeria Informàtica · Estudis d’Informàtica Multimèdia i Telecomunicació\n",
        "##### Universitat Oberta de Catalunya"
      ]
    },
    {
      "cell_type": "markdown",
      "metadata": {
        "id": "jrG4AzzxUmC3"
      },
      "source": [
        "# PEC2: REDUCCIÓN DE DIMENSIONALIDAD Y CLASSIFICACIÓN"
      ]
    },
    {
      "cell_type": "markdown",
      "metadata": {
        "id": "L6CG9OsqVOJ9"
      },
      "source": [
        "## INTRODUCCIÓN"
      ]
    },
    {
      "cell_type": "markdown",
      "metadata": {
        "id": "zMqpqloqVXmw"
      },
      "source": [
        "En esta prueba de evaluación estudiaremos cómo aplicar técnicas de\n",
        "reducción de la dimensionalidad a datos cartográficos sobre tipos de coberturas forestales."
      ]
    },
    {
      "cell_type": "markdown",
      "metadata": {
        "id": "1zHV-LgDVjm6"
      },
      "source": [
        "## COMPETENCIAS"
      ]
    },
    {
      "cell_type": "markdown",
      "metadata": {
        "id": "PHTnAQYlVqjK"
      },
      "source": [
        "En este enunciado se trabajan las siguientes competencias generales de\n",
        "máster:\n",
        "- Capacidad para proyectar, calcular y diseñar productos, procesos e\n",
        "instalaciones en todos los ámbitos de la ingeniería informática.\n",
        "- Capacidad para el modelado matemático, cálculo y simulación en\n",
        "centros tecnológicos y de ingeniería de empresa, particularmente en\n",
        "tareas de investigación, desarrollo e innovación en todos los ámbitos\n",
        "relacionados con la ingeniería informática.\n",
        "- Capacidad para aplicar los conocimientos adquiridos y solucionar\n",
        "problemas en entornos nuevos o poco conocidos dentro de contextos\n",
        "más amplios y multidisciplinares, siendo capaces de integrar estos\n",
        "conocimientos.\n",
        "- Poseer habilidades para el aprendizaje continuo, autodirigido y\n",
        "autónomo.\n",
        "- Capacidad para modelar, diseñar, definir la arquitectura, implantar,\n",
        "gestionar, operar, administrar y mantener aplicaciones, redes,\n",
        "sistemas, servicios y contenidos informáticos.\n",
        "\n",
        "Las competencias específicas de esta asignatura que se trabajan en esta\n",
        "prueba son:\n",
        "- Entender qué es el aprendizaje automático en el contexto de la\n",
        "inteligencia artificial.\n",
        "- Distinguir entre los diferentes tipos y métodos de aprendizaje.\n",
        "- Aplicar las técnicas estudiadas a un caso real."
      ]
    },
    {
      "cell_type": "markdown",
      "metadata": {
        "id": "-kRePYp-EGzP"
      },
      "source": [
        "## RECURSOS\n",
        "\n",
        "Esta PEC requiere los recursos siguientes:\n",
        "\n",
        "Archivos proporcionados:\n",
        "\n",
        "  * iaa2021_pac2_template_es.ipynb\n",
        "\n",
        "Complementarios: \n",
        "  * Manual de teoría de la asignatura, documentación de las librerías utilizadas (_scikit-learn_, _pandas_, _seaborn_,...)."
      ]
    },
    {
      "cell_type": "markdown",
      "metadata": {
        "id": "ZHUoHxYBB6jo"
      },
      "source": [
        "## ENTREGA Y CRITERIOS DE EVALUACIÓN\n",
        "\n",
        "La PEC se debe entregar el **27 de abril del 2021**.\n",
        "\n",
        "La entrega debe incluir una versión editada de este cuaderno (.ipynb). Se recomienda el uso de Google Colab (https://colab.research.google.com/). El código de las soluciones a los ejercicios se debe implementar y ejecutar en las celdas de código proporcionadas y la respuestas justificadas se deben agregar a las celdas de texto correspondientes.\n",
        "\n",
        "Todas las respuestas deben estar correctamente razonadas y justificadas. **Las soluciones que no vayan acompañadas de la correspondiente respuesta razonada no serán evaluadas**.\n"
      ]
    },
    {
      "cell_type": "markdown",
      "metadata": {
        "id": "p6A6AVoYWloS"
      },
      "source": [
        "## DESCRIPCIÓN DE LA PEC"
      ]
    },
    {
      "cell_type": "markdown",
      "metadata": {
        "id": "eIPMykjfXB0q"
      },
      "source": [
        "En esta PEC se aplicarán técnicas de reducción de la dimensionalidad y de clasificación a datos cartográficos reales sobre tipos de coberturas forestales.\n",
        "\n",
        "Concretamente, nos basaremos en los datos de un estudio publicado en:\n",
        "\n",
        "> Blackard, Jock A., and Denis J. Dean. \"Comparative accuracies of artificial neural networks and discriminant analysis in predicting forest cover types from cartographic variables.\" _Computers and electronics in agriculture_ 24.3 (1999): 131-151.\n",
        "\n",
        "El conjunto de datos incluye muestras de siete tipos de coberturas forestales diferentes extraídos de mapas creados por el _US Forest Service_ a partir de imágenes aéreas. Las variables cartográficas independientes se obtuvieron del _US Geological Survey_ y el _US Forest Service_. Las variables, entre otras, incluyen la elevación del terreno, la distancia horizontal a la fuente de agua más cercana o diferentes medidas relativas sobre la luz solar incidente. En total, el conjunto de datos incluye 581,012 muestras y 54 variables.\n",
        "\n",
        "Se puede consultar la descripción completa de este conjunto de datos en:\n",
        "\n",
        "https://archive.ics.uci.edu/ml/datasets/Covertype\n",
        "\n",
        "El objetivo de esta prueba es familiarizaros y hacer uso de diferentes métodos\n",
        "de reducción de la dimensionalidad y llevar a cabo una comparativa entre\n",
        "diferentes técnicas de clasificación automática.\n",
        "\n",
        "Las soluciones a los ejercicios estarán basadas en la librería de código abierto _scikit-learn_ de Python,\n",
        "que incorpora una gran variedad de algoritmos de aprendizaje automático,\n",
        "preprocesamiento, validación y visualización. Por tanto, es muy importante\n",
        "que contéis con la documentación oficial disponible en:\n",
        "\n",
        "https://scikit-learn.org/stable/\n"
      ]
    },
    {
      "cell_type": "markdown",
      "metadata": {
        "id": "IPa7a1yVr_Lm"
      },
      "source": [
        "## EJERCICIO 1"
      ]
    },
    {
      "cell_type": "markdown",
      "metadata": {
        "id": "7dPC37jIRgOF"
      },
      "source": [
        "Para empezar, debemos importar algunos módulos necesarios y cargar los datos. El conjunto de datos original está disponible en _scikit-learn_ i forma parte del módulo _datasets_.\n",
        "\n",
        "https://scikit-learn.org/stable/modules/generated/sklearn.datasets.fetch_covtype.html\n",
        "\n",
        "En este ejercicio trabajaremos con una versión simplificada del conjunto de datos original. La versión simplificada incluye menos muestras y atributos. Estudiad y ejecutad el código proporcionado en la próxima celda y familiarizaros con el conjunto de datos."
      ]
    },
    {
      "cell_type": "code",
      "metadata": {
        "id": "CCUe8cYdZPvX",
        "colab": {
          "base_uri": "https://localhost:8080/"
        },
        "outputId": "d3c9d71a-b3fa-4806-ca2d-750075b64bf4"
      },
      "source": [
        "import pandas as pd\n",
        "from sklearn import datasets\n",
        "import numpy as np\n",
        "pd.set_option('display.max_columns', None)\n",
        "\n",
        "features, labels = datasets.fetch_covtype(return_X_y=True)\n",
        "\n",
        "n_samples = 5000\n",
        "n_attributes = 10\n",
        "df_features = pd.DataFrame(features[:n_samples, :n_attributes])\n",
        "df_labels = pd.DataFrame({'label': labels[:n_samples]})\n",
        "\n",
        "n_classes = len(np.unique(df_labels))\n",
        "\n",
        "print(\"No. of attributes = \" + str(len(df_features.columns)))\n",
        "print(\"No. of classes = \" + str(n_classes))\n",
        "print(\"No. of samples = \" + str(len(df_features)))\n",
        "for cl in np.unique(df_labels):\n",
        "  print(\"\\--No. of samples class \" + str(cl) + \" = \" \n",
        "        + str(df_labels[df_labels==cl].count()['label']))"
      ],
      "execution_count": 147,
      "outputs": [
        {
          "output_type": "stream",
          "text": [
            "No. of attributes = 10\n",
            "No. of classes = 7\n",
            "No. of samples = 5000\n",
            "\\--No. of samples class 1 = 557\n",
            "\\--No. of samples class 2 = 948\n",
            "\\--No. of samples class 3 = 643\n",
            "\\--No. of samples class 4 = 1249\n",
            "\\--No. of samples class 5 = 945\n",
            "\\--No. of samples class 6 = 479\n",
            "\\--No. of samples class 7 = 179\n"
          ],
          "name": "stdout"
        }
      ]
    },
    {
      "cell_type": "code",
      "metadata": {
        "colab": {
          "base_uri": "https://localhost:8080/"
        },
        "id": "VnCXCTcFGUcb",
        "outputId": "c0531e35-df69-44ff-e935-a1fc363a221c"
      },
      "source": [
        "df_features.describe(include='all'),df_features.info()\n"
      ],
      "execution_count": 148,
      "outputs": [
        {
          "output_type": "stream",
          "text": [
            "<class 'pandas.core.frame.DataFrame'>\n",
            "RangeIndex: 5000 entries, 0 to 4999\n",
            "Data columns (total 10 columns):\n",
            " #   Column  Non-Null Count  Dtype  \n",
            "---  ------  --------------  -----  \n",
            " 0   0       5000 non-null   float64\n",
            " 1   1       5000 non-null   float64\n",
            " 2   2       5000 non-null   float64\n",
            " 3   3       5000 non-null   float64\n",
            " 4   4       5000 non-null   float64\n",
            " 5   5       5000 non-null   float64\n",
            " 6   6       5000 non-null   float64\n",
            " 7   7       5000 non-null   float64\n",
            " 8   8       5000 non-null   float64\n",
            " 9   9       5000 non-null   float64\n",
            "dtypes: float64(10)\n",
            "memory usage: 390.8 KB\n"
          ],
          "name": "stdout"
        },
        {
          "output_type": "execute_result",
          "data": {
            "text/plain": [
              "(                 0            1            2            3            4  \\\n",
              " count  5000.000000  5000.000000  5000.000000  5000.000000  5000.000000   \n",
              " mean   2590.297600   155.529600    17.599000   183.294000    46.290200   \n",
              " std     389.357969   109.718326     9.400014   160.188788    56.633346   \n",
              " min    1863.000000     0.000000     0.000000     0.000000  -134.000000   \n",
              " 25%    2220.000000    66.000000    10.000000    42.000000     3.000000   \n",
              " 50%    2677.500000   121.500000    17.000000   150.000000    27.000000   \n",
              " 75%    2905.250000   263.250000    25.000000   277.000000    74.000000   \n",
              " max    3442.000000   360.000000    52.000000   997.000000   554.000000   \n",
              " \n",
              "                  5            6            7            8            9  \n",
              " count  5000.000000  5000.000000  5000.000000  5000.000000  5000.000000  \n",
              " mean   1723.505600   212.261000   215.535000   130.761600  1517.390800  \n",
              " std    1564.713429    33.583068    25.150835    50.682969  1324.742471  \n",
              " min      30.000000     0.000000    99.000000     0.000000    30.000000  \n",
              " 25%     630.000000   195.000000   202.000000    97.000000   601.000000  \n",
              " 50%    1167.000000   221.000000   221.000000   135.000000  1124.000000  \n",
              " 75%    2207.000000   237.000000   233.000000   167.000000  2001.000000  \n",
              " max    6890.000000   254.000000   254.000000   248.000000  6853.000000  ,\n",
              " None)"
            ]
          },
          "metadata": {
            "tags": []
          },
          "execution_count": 148
        }
      ]
    },
    {
      "cell_type": "code",
      "metadata": {
        "colab": {
          "base_uri": "https://localhost:8080/"
        },
        "id": "BWYJC2tsGrgV",
        "outputId": "470ebfdb-6c13-4292-b639-48da38b8b6b2"
      },
      "source": [
        "df_labels.describe(include='all'), df_labels.info()"
      ],
      "execution_count": 149,
      "outputs": [
        {
          "output_type": "stream",
          "text": [
            "<class 'pandas.core.frame.DataFrame'>\n",
            "RangeIndex: 5000 entries, 0 to 4999\n",
            "Data columns (total 1 columns):\n",
            " #   Column  Non-Null Count  Dtype\n",
            "---  ------  --------------  -----\n",
            " 0   label   5000 non-null   int32\n",
            "dtypes: int32(1)\n",
            "memory usage: 19.7 KB\n"
          ],
          "name": "stdout"
        },
        {
          "output_type": "execute_result",
          "data": {
            "text/plain": [
              "(            label\n",
              " count  5000.00000\n",
              " mean      3.64600\n",
              " std       1.63071\n",
              " min       1.00000\n",
              " 25%       2.00000\n",
              " 50%       4.00000\n",
              " 75%       5.00000\n",
              " max       7.00000, None)"
            ]
          },
          "metadata": {
            "tags": []
          },
          "execution_count": 149
        }
      ]
    },
    {
      "cell_type": "code",
      "metadata": {
        "colab": {
          "base_uri": "https://localhost:8080/"
        },
        "id": "MXjv9ugrHR5M",
        "outputId": "5dc7e7fa-3d3a-47d8-9a3e-d9869a047dfd"
      },
      "source": [
        "df_features.head(10),df_labels.head(10)"
      ],
      "execution_count": 150,
      "outputs": [
        {
          "output_type": "execute_result",
          "data": {
            "text/plain": [
              "(        0      1     2      3      4       5      6      7      8       9\n",
              " 0  2596.0   51.0   3.0  258.0    0.0   510.0  221.0  232.0  148.0  6279.0\n",
              " 1  2590.0   56.0   2.0  212.0   -6.0   390.0  220.0  235.0  151.0  6225.0\n",
              " 2  2804.0  139.0   9.0  268.0   65.0  3180.0  234.0  238.0  135.0  6121.0\n",
              " 3  2785.0  155.0  18.0  242.0  118.0  3090.0  238.0  238.0  122.0  6211.0\n",
              " 4  2595.0   45.0   2.0  153.0   -1.0   391.0  220.0  234.0  150.0  6172.0\n",
              " 5  2579.0  132.0   6.0  300.0  -15.0    67.0  230.0  237.0  140.0  6031.0\n",
              " 6  2606.0   45.0   7.0  270.0    5.0   633.0  222.0  225.0  138.0  6256.0\n",
              " 7  2605.0   49.0   4.0  234.0    7.0   573.0  222.0  230.0  144.0  6228.0\n",
              " 8  2617.0   45.0   9.0  240.0   56.0   666.0  223.0  221.0  133.0  6244.0\n",
              " 9  2612.0   59.0  10.0  247.0   11.0   636.0  228.0  219.0  124.0  6230.0,\n",
              "    label\n",
              " 0      5\n",
              " 1      5\n",
              " 2      2\n",
              " 3      2\n",
              " 4      5\n",
              " 5      2\n",
              " 6      5\n",
              " 7      5\n",
              " 8      5\n",
              " 9      5)"
            ]
          },
          "metadata": {
            "tags": []
          },
          "execution_count": 150
        }
      ]
    },
    {
      "cell_type": "code",
      "metadata": {
        "colab": {
          "base_uri": "https://localhost:8080/",
          "height": 282
        },
        "id": "6Ts-ICZkKPBz",
        "outputId": "15d99e99-6604-48d8-8941-717302f7d6c2"
      },
      "source": [
        "df_labels.plot.hist(bins=14)"
      ],
      "execution_count": 151,
      "outputs": [
        {
          "output_type": "execute_result",
          "data": {
            "text/plain": [
              "<matplotlib.axes._subplots.AxesSubplot at 0x7fb36c189f90>"
            ]
          },
          "metadata": {
            "tags": []
          },
          "execution_count": 151
        },
        {
          "output_type": "display_data",
          "data": {
            "image/png": "[encoded data removed]",
            "text/plain": [
              "<Figure size 432x288 with 1 Axes>"
            ]
          },
          "metadata": {
            "tags": [],
            "needs_background": "light"
          }
        }
      ]
    },
    {
      "cell_type": "markdown",
      "metadata": {
        "id": "lfukvlhnLxun"
      },
      "source": [
        "**1.a) (1 PUNTO) Explorad los atributos del conjunto de datos.**\n",
        "\n",
        "**Utilizad el método _describe_ de _pandas.DataFrame_. ¿Qué tipo de información genera?**\n",
        "\n",
        "https://pandas.pydata.org/docs/reference/api/pandas.DataFrame.describe.html\n",
        "\n",
        "**Analizad la desviación típica de todos los atributos. ¿Pensáis que tienen rangos similares? Identificad los atributos con máxima y mínima dispersión (desviación típica) y proporcionad los valores. ¿Podéis describir brevemente qué pasaría si utilizásemos estos atributos directamente para el análisis PCA?**"
      ]
    },
    {
      "cell_type": "code",
      "metadata": {
        "id": "Jcds1TxiniSZ",
        "colab": {
          "base_uri": "https://localhost:8080/"
        },
        "outputId": "82717848-eeeb-4894-a5d9-779632152d2c"
      },
      "source": [
        "df_features.describe(include='all'),df_features.info()\n"
      ],
      "execution_count": 152,
      "outputs": [
        {
          "output_type": "stream",
          "text": [
            "<class 'pandas.core.frame.DataFrame'>\n",
            "RangeIndex: 5000 entries, 0 to 4999\n",
            "Data columns (total 10 columns):\n",
            " #   Column  Non-Null Count  Dtype  \n",
            "---  ------  --------------  -----  \n",
            " 0   0       5000 non-null   float64\n",
            " 1   1       5000 non-null   float64\n",
            " 2   2       5000 non-null   float64\n",
            " 3   3       5000 non-null   float64\n",
            " 4   4       5000 non-null   float64\n",
            " 5   5       5000 non-null   float64\n",
            " 6   6       5000 non-null   float64\n",
            " 7   7       5000 non-null   float64\n",
            " 8   8       5000 non-null   float64\n",
            " 9   9       5000 non-null   float64\n",
            "dtypes: float64(10)\n",
            "memory usage: 390.8 KB\n"
          ],
          "name": "stdout"
        },
        {
          "output_type": "execute_result",
          "data": {
            "text/plain": [
              "(                 0            1            2            3            4  \\\n",
              " count  5000.000000  5000.000000  5000.000000  5000.000000  5000.000000   \n",
              " mean   2590.297600   155.529600    17.599000   183.294000    46.290200   \n",
              " std     389.357969   109.718326     9.400014   160.188788    56.633346   \n",
              " min    1863.000000     0.000000     0.000000     0.000000  -134.000000   \n",
              " 25%    2220.000000    66.000000    10.000000    42.000000     3.000000   \n",
              " 50%    2677.500000   121.500000    17.000000   150.000000    27.000000   \n",
              " 75%    2905.250000   263.250000    25.000000   277.000000    74.000000   \n",
              " max    3442.000000   360.000000    52.000000   997.000000   554.000000   \n",
              " \n",
              "                  5            6            7            8            9  \n",
              " count  5000.000000  5000.000000  5000.000000  5000.000000  5000.000000  \n",
              " mean   1723.505600   212.261000   215.535000   130.761600  1517.390800  \n",
              " std    1564.713429    33.583068    25.150835    50.682969  1324.742471  \n",
              " min      30.000000     0.000000    99.000000     0.000000    30.000000  \n",
              " 25%     630.000000   195.000000   202.000000    97.000000   601.000000  \n",
              " 50%    1167.000000   221.000000   221.000000   135.000000  1124.000000  \n",
              " 75%    2207.000000   237.000000   233.000000   167.000000  2001.000000  \n",
              " max    6890.000000   254.000000   254.000000   248.000000  6853.000000  ,\n",
              " None)"
            ]
          },
          "metadata": {
            "tags": []
          },
          "execution_count": 152
        }
      ]
    },
    {
      "cell_type": "code",
      "metadata": {
        "colab": {
          "base_uri": "https://localhost:8080/"
        },
        "id": "_9thI0t6P9O7",
        "outputId": "016c96c9-3793-451a-d8e1-d97a1b4f9578"
      },
      "source": [
        "100*df_features.std()/df_features.mean()\n",
        "\n",
        "#Es una estimacion del porcentaje de std que tiene cada una de las columnas"
      ],
      "execution_count": 153,
      "outputs": [
        {
          "output_type": "execute_result",
          "data": {
            "text/plain": [
              "0     15.031399\n",
              "1     70.544981\n",
              "2     53.412208\n",
              "3     87.394452\n",
              "4    122.344137\n",
              "5     90.786675\n",
              "6     15.821591\n",
              "7     11.669026\n",
              "8     38.759826\n",
              "9     87.303974\n",
              "dtype: float64"
            ]
          },
          "metadata": {
            "tags": []
          },
          "execution_count": 153
        }
      ]
    },
    {
      "cell_type": "code",
      "metadata": {
        "colab": {
          "base_uri": "https://localhost:8080/",
          "height": 299
        },
        "id": "c4uuRI44UAfE",
        "outputId": "a6498ef1-17fe-43a3-c8e8-2fd1670f765c"
      },
      "source": [
        "vectorX= np.array(range(0,len(df_features)))\n",
        "import matplotlib.pyplot as plt\n",
        "\n",
        "plt.scatter(vectorX,(df_features[1])),plt.scatter(vectorX,(df_features[2]))"
      ],
      "execution_count": 154,
      "outputs": [
        {
          "output_type": "execute_result",
          "data": {
            "text/plain": [
              "(<matplotlib.collections.PathCollection at 0x7fb36c0b3e50>,\n",
              " <matplotlib.collections.PathCollection at 0x7fb36c5ede90>)"
            ]
          },
          "metadata": {
            "tags": []
          },
          "execution_count": 154
        },
        {
          "output_type": "display_data",
          "data": {
            "image/png": "[encoded data removed]",
            "text/plain": [
              "<Figure size 432x288 with 1 Axes>"
            ]
          },
          "metadata": {
            "tags": [],
            "needs_background": "light"
          }
        }
      ]
    },
    {
      "cell_type": "code",
      "metadata": {
        "colab": {
          "base_uri": "https://localhost:8080/",
          "height": 299
        },
        "id": "Rg_uYAT5V1eF",
        "outputId": "97feca19-2c2e-4e3a-f3cc-582c1162bc37"
      },
      "source": [
        "plt.scatter(vectorX,(df_features[0])),plt.scatter(vectorX,(df_features[3]))"
      ],
      "execution_count": 155,
      "outputs": [
        {
          "output_type": "execute_result",
          "data": {
            "text/plain": [
              "(<matplotlib.collections.PathCollection at 0x7fb36c0e06d0>,\n",
              " <matplotlib.collections.PathCollection at 0x7fb36c036990>)"
            ]
          },
          "metadata": {
            "tags": []
          },
          "execution_count": 155
        },
        {
          "output_type": "display_data",
          "data": {
            "image/png": "[encoded data removed]",
            "text/plain": [
              "<Figure size 432x288 with 1 Axes>"
            ]
          },
          "metadata": {
            "tags": [],
            "needs_background": "light"
          }
        }
      ]
    },
    {
      "cell_type": "code",
      "metadata": {
        "colab": {
          "base_uri": "https://localhost:8080/",
          "height": 299
        },
        "id": "DNDO0jP9WEIK",
        "outputId": "e97014f8-ca1a-4d26-8c0c-e43b53845ffe"
      },
      "source": [
        "plt.scatter(vectorX,(df_features[9])),plt.scatter(vectorX,(df_features[5]))"
      ],
      "execution_count": 156,
      "outputs": [
        {
          "output_type": "execute_result",
          "data": {
            "text/plain": [
              "(<matplotlib.collections.PathCollection at 0x7fb36c001650>,\n",
              " <matplotlib.collections.PathCollection at 0x7fb36c022e90>)"
            ]
          },
          "metadata": {
            "tags": []
          },
          "execution_count": 156
        },
        {
          "output_type": "display_data",
          "data": {
            "image/png": "[encoded data removed]",
            "text/plain": [
              "<Figure size 432x288 with 1 Axes>"
            ]
          },
          "metadata": {
            "tags": [],
            "needs_background": "light"
          }
        }
      ]
    },
    {
      "cell_type": "markdown",
      "metadata": {
        "id": "IwZFcUWaLlDd"
      },
      "source": [
        "R://\n",
        "\n",
        "**Esta claro al realizar la descripcion del data set que no tenemos mismas condiciones en cada uno de los atributos. El Problema con aplicar PCA es que si los datos contienen demasiados outliers la transformacion de PCA sera incorrecta, muy sensible al procesar linealmente los datos, por tanto la escala importa mucho. Si no contienen la misma escala sensillamente eliminara atributos(columnas que por su baja escala el algoritmo las tomara como no relevantes en comparacion a otras) y con esto perderemos informacion.**\n",
        "\n",
        "\n",
        "\n",
        "\n",
        "\n",
        "\n"
      ]
    },
    {
      "cell_type": "code",
      "metadata": {
        "id": "bltnevtyWZws"
      },
      "source": [
        "#----------------------------------------------------------------------------------------------------------------------------------------\n",
        "\n",
        "\n"
      ],
      "execution_count": 157,
      "outputs": []
    },
    {
      "cell_type": "markdown",
      "metadata": {
        "id": "7AYxcb3yzICQ"
      },
      "source": [
        "**1.b) (1 PUNTO) Un análisis PCA siempre se debe realizar sobre datos escalados. Los próximos ejercicios nos permitirán estudiar y aprender sobre PCA además de explorar el impacto del escalado de los datos en el proceso.**\n",
        "\n",
        "**Aplicad un análisis PCA a los datos dos veces:**\n",
        "- **Análisis PCA a los datos originales.**\n",
        "- **Análisis PCA a los datos estandarizados mediante _StandardScaler_:**\n",
        "\n",
        "https://scikit-learn.org/stable/modules/generated/sklearn.preprocessing.StandardScaler.html\n",
        "\n",
        "**De manera similar al Ejercicio 1.a, pero en este caso para los dos espacios PCA obtenidos, identificad los atributos con máxima y mínima dispersión (desviación típica) y los valores correspondientes. Comentad los resultados.**"
      ]
    },
    {
      "cell_type": "code",
      "metadata": {
        "id": "eBvx89fJu9nn",
        "colab": {
          "base_uri": "https://localhost:8080/"
        },
        "outputId": "4962a566-2d3e-431a-cd0d-09837c5c12ec"
      },
      "source": [
        "# Analisis PCA sin estandarizar los datos.\n",
        "\n",
        "\n",
        "from sklearn.decomposition import PCA\n",
        "pca1 = PCA(n_components=9)\n",
        "pca1.fit(df_features)\n"
      ],
      "execution_count": 158,
      "outputs": [
        {
          "output_type": "execute_result",
          "data": {
            "text/plain": [
              "PCA(copy=True, iterated_power='auto', n_components=9, random_state=None,\n",
              "    svd_solver='auto', tol=0.0, whiten=False)"
            ]
          },
          "metadata": {
            "tags": []
          },
          "execution_count": 158
        }
      ]
    },
    {
      "cell_type": "code",
      "metadata": {
        "colab": {
          "base_uri": "https://localhost:8080/"
        },
        "id": "O-11EMpNXngX",
        "outputId": "4a2da1c5-29af-4d9f-f47c-7910c17677f3"
      },
      "source": [
        "print(pca1.explained_variance_ratio_.tolist())\n",
        "\n"
      ],
      "execution_count": 159,
      "outputs": [
        {
          "output_type": "stream",
          "text": [
            "[0.7471036912619199, 0.22610390742201297, 0.01727524026205009, 0.005577985386962992, 0.0030036998645624484, 0.0004418162291034118, 0.00033486574492217294, 0.00014972861121051887, 8.093522701414209e-06]\n"
          ],
          "name": "stdout"
        }
      ]
    },
    {
      "cell_type": "code",
      "metadata": {
        "colab": {
          "base_uri": "https://localhost:8080/"
        },
        "id": "YXREHU_jXuJq",
        "outputId": "86235779-2ce8-4cab-9798-ff9af19fb47d"
      },
      "source": [
        "print(pca1.singular_values_)"
      ],
      "execution_count": 160,
      "outputs": [
        {
          "output_type": "stream",
          "text": [
            "[128194.06230782  70523.11759149  19493.48629282  11076.84694869\n",
            "   8128.41252547   3117.44141899   2714.01866917   1814.804582\n",
            "    421.93569116]\n"
          ],
          "name": "stdout"
        }
      ]
    },
    {
      "cell_type": "code",
      "metadata": {
        "colab": {
          "base_uri": "https://localhost:8080/"
        },
        "id": "DgUDoWogYFV3",
        "outputId": "bbb87b5a-118f-491f-b4e4-8e8730dd747c"
      },
      "source": [
        "from sklearn.preprocessing import StandardScaler\n",
        "scaler = StandardScaler()\n",
        "print(scaler.fit(df_features))\n",
        "print(scaler.mean_)\n",
        "\n",
        "std_df = scaler.transform(df_features)\n"
      ],
      "execution_count": 161,
      "outputs": [
        {
          "output_type": "stream",
          "text": [
            "StandardScaler(copy=True, with_mean=True, with_std=True)\n",
            "[2590.2976  155.5296   17.599   183.294    46.2902 1723.5056  212.261\n",
            "  215.535   130.7616 1517.3908]\n"
          ],
          "name": "stdout"
        }
      ]
    },
    {
      "cell_type": "code",
      "metadata": {
        "colab": {
          "base_uri": "https://localhost:8080/",
          "height": 359
        },
        "id": "TYul-oBdbWcd",
        "outputId": "1342333e-3e3b-463c-aead-e0a249e5f937"
      },
      "source": [
        "std_df=pd.DataFrame(std_df)\n",
        "std_df.tail(10)"
      ],
      "execution_count": 162,
      "outputs": [
        {
          "output_type": "execute_result",
          "data": {
            "text/html": [
              "<div>\n",
              "<style scoped>\n",
              "    .dataframe tbody tr th:only-of-type {\n",
              "        vertical-align: middle;\n",
              "    }\n",
              "\n",
              "    .dataframe tbody tr th {\n",
              "        vertical-align: top;\n",
              "    }\n",
              "\n",
              "    .dataframe thead th {\n",
              "        text-align: right;\n",
              "    }\n",
              "</style>\n",
              "<table border=\"1\" class=\"dataframe\">\n",
              "  <thead>\n",
              "    <tr style=\"text-align: right;\">\n",
              "      <th></th>\n",
              "      <th>0</th>\n",
              "      <th>1</th>\n",
              "      <th>2</th>\n",
              "      <th>3</th>\n",
              "      <th>4</th>\n",
              "      <th>5</th>\n",
              "      <th>6</th>\n",
              "      <th>7</th>\n",
              "      <th>8</th>\n",
              "      <th>9</th>\n",
              "    </tr>\n",
              "  </thead>\n",
              "  <tbody>\n",
              "    <tr>\n",
              "      <th>4990</th>\n",
              "      <td>-0.771341</td>\n",
              "      <td>-0.715810</td>\n",
              "      <td>1.212992</td>\n",
              "      <td>-0.582459</td>\n",
              "      <td>-0.075762</td>\n",
              "      <td>-0.484166</td>\n",
              "      <td>0.885624</td>\n",
              "      <td>-1.691365</td>\n",
              "      <td>-1.771218</td>\n",
              "      <td>-0.324919</td>\n",
              "    </tr>\n",
              "    <tr>\n",
              "      <th>4991</th>\n",
              "      <td>-0.856104</td>\n",
              "      <td>-0.724925</td>\n",
              "      <td>0.468238</td>\n",
              "      <td>-0.957054</td>\n",
              "      <td>-0.658515</td>\n",
              "      <td>-0.499506</td>\n",
              "      <td>0.855844</td>\n",
              "      <td>-0.935848</td>\n",
              "      <td>-1.198976</td>\n",
              "      <td>-0.280377</td>\n",
              "    </tr>\n",
              "    <tr>\n",
              "      <th>4992</th>\n",
              "      <td>-0.863810</td>\n",
              "      <td>1.809089</td>\n",
              "      <td>0.893811</td>\n",
              "      <td>-0.957054</td>\n",
              "      <td>-0.640856</td>\n",
              "      <td>-0.519320</td>\n",
              "      <td>-1.318088</td>\n",
              "      <td>-1.174432</td>\n",
              "      <td>0.359889</td>\n",
              "      <td>-0.255464</td>\n",
              "    </tr>\n",
              "    <tr>\n",
              "      <th>4993</th>\n",
              "      <td>-0.707126</td>\n",
              "      <td>-1.043956</td>\n",
              "      <td>1.319385</td>\n",
              "      <td>-0.082998</td>\n",
              "      <td>0.930813</td>\n",
              "      <td>-0.691254</td>\n",
              "      <td>-0.126892</td>\n",
              "      <td>-2.208299</td>\n",
              "      <td>-1.258174</td>\n",
              "      <td>-0.392863</td>\n",
              "    </tr>\n",
              "    <tr>\n",
              "      <th>4994</th>\n",
              "      <td>-0.917750</td>\n",
              "      <td>-1.217144</td>\n",
              "      <td>1.106598</td>\n",
              "      <td>-0.551242</td>\n",
              "      <td>-0.923404</td>\n",
              "      <td>-0.813972</td>\n",
              "      <td>-0.662930</td>\n",
              "      <td>-1.929950</td>\n",
              "      <td>-0.587270</td>\n",
              "      <td>-0.586128</td>\n",
              "    </tr>\n",
              "    <tr>\n",
              "      <th>4995</th>\n",
              "      <td>1.774130</td>\n",
              "      <td>-0.287397</td>\n",
              "      <td>-1.127664</td>\n",
              "      <td>-0.957054</td>\n",
              "      <td>-0.782130</td>\n",
              "      <td>1.354054</td>\n",
              "      <td>0.587825</td>\n",
              "      <td>0.774008</td>\n",
              "      <td>0.103367</td>\n",
              "      <td>1.582058</td>\n",
              "    </tr>\n",
              "    <tr>\n",
              "      <th>4996</th>\n",
              "      <td>1.715052</td>\n",
              "      <td>-0.305628</td>\n",
              "      <td>-1.446845</td>\n",
              "      <td>-1.144352</td>\n",
              "      <td>-0.817448</td>\n",
              "      <td>1.203852</td>\n",
              "      <td>0.468706</td>\n",
              "      <td>0.813772</td>\n",
              "      <td>0.241494</td>\n",
              "      <td>1.660571</td>\n",
              "    </tr>\n",
              "    <tr>\n",
              "      <th>4997</th>\n",
              "      <td>1.671386</td>\n",
              "      <td>-0.943689</td>\n",
              "      <td>0.361844</td>\n",
              "      <td>-0.882135</td>\n",
              "      <td>-0.888085</td>\n",
              "      <td>1.090721</td>\n",
              "      <td>0.409146</td>\n",
              "      <td>-1.015376</td>\n",
              "      <td>-0.843792</td>\n",
              "      <td>1.725496</td>\n",
              "    </tr>\n",
              "    <tr>\n",
              "      <th>4998</th>\n",
              "      <td>0.998416</td>\n",
              "      <td>-1.162453</td>\n",
              "      <td>0.787418</td>\n",
              "      <td>-0.470080</td>\n",
              "      <td>-0.270013</td>\n",
              "      <td>-0.029085</td>\n",
              "      <td>-0.305571</td>\n",
              "      <td>-1.492545</td>\n",
              "      <td>-0.587270</td>\n",
              "      <td>1.557899</td>\n",
              "    </tr>\n",
              "    <tr>\n",
              "      <th>4999</th>\n",
              "      <td>1.114003</td>\n",
              "      <td>-0.187131</td>\n",
              "      <td>-0.914877</td>\n",
              "      <td>3.244659</td>\n",
              "      <td>2.961622</td>\n",
              "      <td>-0.640760</td>\n",
              "      <td>0.677165</td>\n",
              "      <td>0.813772</td>\n",
              "      <td>0.044169</td>\n",
              "      <td>-0.197334</td>\n",
              "    </tr>\n",
              "  </tbody>\n",
              "</table>\n",
              "</div>"
            ],
            "text/plain": [
              "             0         1         2         3         4         5         6  \\\n",
              "4990 -0.771341 -0.715810  1.212992 -0.582459 -0.075762 -0.484166  0.885624   \n",
              "4991 -0.856104 -0.724925  0.468238 -0.957054 -0.658515 -0.499506  0.855844   \n",
              "4992 -0.863810  1.809089  0.893811 -0.957054 -0.640856 -0.519320 -1.318088   \n",
              "4993 -0.707126 -1.043956  1.319385 -0.082998  0.930813 -0.691254 -0.126892   \n",
              "4994 -0.917750 -1.217144  1.106598 -0.551242 -0.923404 -0.813972 -0.662930   \n",
              "4995  1.774130 -0.287397 -1.127664 -0.957054 -0.782130  1.354054  0.587825   \n",
              "4996  1.715052 -0.305628 -1.446845 -1.144352 -0.817448  1.203852  0.468706   \n",
              "4997  1.671386 -0.943689  0.361844 -0.882135 -0.888085  1.090721  0.409146   \n",
              "4998  0.998416 -1.162453  0.787418 -0.470080 -0.270013 -0.029085 -0.305571   \n",
              "4999  1.114003 -0.187131 -0.914877  3.244659  2.961622 -0.640760  0.677165   \n",
              "\n",
              "             7         8         9  \n",
              "4990 -1.691365 -1.771218 -0.324919  \n",
              "4991 -0.935848 -1.198976 -0.280377  \n",
              "4992 -1.174432  0.359889 -0.255464  \n",
              "4993 -2.208299 -1.258174 -0.392863  \n",
              "4994 -1.929950 -0.587270 -0.586128  \n",
              "4995  0.774008  0.103367  1.582058  \n",
              "4996  0.813772  0.241494  1.660571  \n",
              "4997 -1.015376 -0.843792  1.725496  \n",
              "4998 -1.492545 -0.587270  1.557899  \n",
              "4999  0.813772  0.044169 -0.197334  "
            ]
          },
          "metadata": {
            "tags": []
          },
          "execution_count": 162
        }
      ]
    },
    {
      "cell_type": "code",
      "metadata": {
        "colab": {
          "base_uri": "https://localhost:8080/"
        },
        "id": "DxP-yx1pcLM2",
        "outputId": "c3b0fecf-c8c4-4be3-fded-c5eb63063a10"
      },
      "source": [
        "pca = PCA(n_components=9)\n",
        "pca.fit(std_df)\n"
      ],
      "execution_count": 163,
      "outputs": [
        {
          "output_type": "execute_result",
          "data": {
            "text/plain": [
              "PCA(copy=True, iterated_power='auto', n_components=9, random_state=None,\n",
              "    svd_solver='auto', tol=0.0, whiten=False)"
            ]
          },
          "metadata": {
            "tags": []
          },
          "execution_count": 163
        }
      ]
    },
    {
      "cell_type": "code",
      "metadata": {
        "colab": {
          "base_uri": "https://localhost:8080/"
        },
        "id": "tEabxr7CcT7K",
        "outputId": "85e99196-efdb-4f9b-b357-8ef103ef54cb"
      },
      "source": [
        "print(pca.explained_variance_ratio_.tolist())"
      ],
      "execution_count": 164,
      "outputs": [
        {
          "output_type": "stream",
          "text": [
            "[0.3148741730145257, 0.24160772599918867, 0.17325700314052503, 0.09116830686701012, 0.05148127258586858, 0.044624123916778495, 0.032422130370195326, 0.028824493949793112, 0.02133789658433739]\n"
          ],
          "name": "stdout"
        }
      ]
    },
    {
      "cell_type": "code",
      "metadata": {
        "colab": {
          "base_uri": "https://localhost:8080/"
        },
        "id": "s7mfWATtcVky",
        "outputId": "e534fdad-a2a3-4150-8e9b-23380c374be9"
      },
      "source": [
        "print(pca.singular_values_)"
      ],
      "execution_count": 165,
      "outputs": [
        {
          "output_type": "stream",
          "text": [
            "[125.47393614 109.91081066  93.07443342  67.51603768  50.73523065\n",
            "  47.23564539  40.26296709  37.9634653   32.66335606]\n"
          ],
          "name": "stdout"
        }
      ]
    },
    {
      "cell_type": "code",
      "metadata": {
        "colab": {
          "base_uri": "https://localhost:8080/"
        },
        "id": "zY96t_eJc2nL",
        "outputId": "2808564c-1658-4570-c8e1-cdc0482f5802"
      },
      "source": [
        "std_df.describe(include='all'),std_df.info()"
      ],
      "execution_count": 166,
      "outputs": [
        {
          "output_type": "stream",
          "text": [
            "<class 'pandas.core.frame.DataFrame'>\n",
            "RangeIndex: 5000 entries, 0 to 4999\n",
            "Data columns (total 10 columns):\n",
            " #   Column  Non-Null Count  Dtype  \n",
            "---  ------  --------------  -----  \n",
            " 0   0       5000 non-null   float64\n",
            " 1   1       5000 non-null   float64\n",
            " 2   2       5000 non-null   float64\n",
            " 3   3       5000 non-null   float64\n",
            " 4   4       5000 non-null   float64\n",
            " 5   5       5000 non-null   float64\n",
            " 6   6       5000 non-null   float64\n",
            " 7   7       5000 non-null   float64\n",
            " 8   8       5000 non-null   float64\n",
            " 9   9       5000 non-null   float64\n",
            "dtypes: float64(10)\n",
            "memory usage: 390.8 KB\n"
          ],
          "name": "stdout"
        },
        {
          "output_type": "execute_result",
          "data": {
            "text/plain": [
              "(                  0             1             2             3             4  \\\n",
              " count  5.000000e+03  5.000000e+03  5.000000e+03  5.000000e+03  5.000000e+03   \n",
              " mean   1.416200e-16  2.009781e-16 -4.092282e-16 -1.698819e-15  4.248157e-16   \n",
              " std    1.000100e+00  1.000100e+00  1.000100e+00  1.000100e+00  1.000100e+00   \n",
              " min   -1.868128e+00 -1.417677e+00 -1.872418e+00 -1.144352e+00 -3.183782e+00   \n",
              " 25%   -9.511418e-01 -8.160766e-01 -8.084839e-01 -8.821350e-01 -7.644706e-01   \n",
              " 50%    2.239870e-01 -3.101852e-01 -6.372968e-02 -2.078630e-01 -3.406496e-01   \n",
              " 75%    8.089828e-01  9.818886e-01  7.874180e-01  5.850308e-01  4.893331e-01   \n",
              " max    2.187672e+00  1.863780e+00  3.660041e+00  5.080177e+00  8.965753e+00   \n",
              " \n",
              "                   5             6             7             8             9  \n",
              " count  5.000000e+03  5.000000e+03  5.000000e+03  5.000000e+03  5.000000e+03  \n",
              " mean  -1.889600e-17 -1.925127e-17  4.343415e-16  3.518782e-16 -3.041623e-16  \n",
              " std    1.000100e+00  1.000100e+00  1.000100e+00  1.000100e+00  1.000100e+00  \n",
              " min   -1.082419e+00 -6.321109e+00 -4.633908e+00 -2.580249e+00 -1.122890e+00  \n",
              " 25%   -6.989235e-01 -5.140307e-01 -5.382069e-01 -6.661997e-01 -6.918193e-01  \n",
              " 50%   -3.556953e-01  2.602464e-01  2.173107e-01  8.363409e-02 -2.969861e-01  \n",
              " 75%    3.090296e-01  7.367247e-01  6.944798e-01  7.150730e-01  3.650955e-01  \n",
              " max    3.302209e+00  1.242983e+00  1.529526e+00  2.313403e+00  4.028061e+00  ,\n",
              " None)"
            ]
          },
          "metadata": {
            "tags": []
          },
          "execution_count": 166
        }
      ]
    },
    {
      "cell_type": "code",
      "metadata": {
        "colab": {
          "base_uri": "https://localhost:8080/"
        },
        "id": "wy3E8Pa1dMxz",
        "outputId": "523d4394-3e14-4858-f18e-8e2d8ce4b847"
      },
      "source": [
        "std_df.std()"
      ],
      "execution_count": 167,
      "outputs": [
        {
          "output_type": "execute_result",
          "data": {
            "text/plain": [
              "0    1.0001\n",
              "1    1.0001\n",
              "2    1.0001\n",
              "3    1.0001\n",
              "4    1.0001\n",
              "5    1.0001\n",
              "6    1.0001\n",
              "7    1.0001\n",
              "8    1.0001\n",
              "9    1.0001\n",
              "dtype: float64"
            ]
          },
          "metadata": {
            "tags": []
          },
          "execution_count": 167
        }
      ]
    },
    {
      "cell_type": "code",
      "metadata": {
        "colab": {
          "base_uri": "https://localhost:8080/"
        },
        "id": "1Oaqd_Pqd1bv",
        "outputId": "df6724c6-7f59-4206-f88e-792d46a6770c"
      },
      "source": [
        "list_std=pca.explained_variance_ratio_.tolist()\n",
        "list_Non_std= pca1.explained_variance_ratio_.tolist()\n",
        "for id in range(0,len(list_Non_std)-1):\n",
        "  print(id,' : ',list_Non_std[id],'||',list_std[id])\n",
        "\n",
        "\n"
      ],
      "execution_count": 183,
      "outputs": [
        {
          "output_type": "stream",
          "text": [
            "0  :  0.7471036912619199 || 0.3148741730145257\n",
            "1  :  0.22610390742201297 || 0.24160772599918867\n",
            "2  :  0.01727524026205009 || 0.17325700314052503\n",
            "3  :  0.005577985386962992 || 0.09116830686701012\n",
            "4  :  0.0030036998645624484 || 0.05148127258586858\n",
            "5  :  0.0004418162291034118 || 0.044624123916778495\n",
            "6  :  0.00033486574492217294 || 0.032422130370195326\n",
            "7  :  0.00014972861121051887 || 0.028824493949793112\n"
          ],
          "name": "stdout"
        }
      ]
    },
    {
      "cell_type": "code",
      "metadata": {
        "id": "_JAU5BtCckEr"
      },
      "source": [
        "#---------------------- ANALISIS -------------------------------------------------------------------------------"
      ],
      "execution_count": 168,
      "outputs": []
    },
    {
      "cell_type": "markdown",
      "metadata": {
        "id": "SkNdakHacnwG"
      },
      "source": [
        ""
      ]
    },
    {
      "cell_type": "markdown",
      "metadata": {
        "id": "kRqs5eZm6C-_"
      },
      "source": [
        "Exercicio 1.b: Doble-click (o enter) para añadir vuestra respuesta."
      ]
    },
    {
      "cell_type": "markdown",
      "metadata": {
        "id": "4amNjG605Tm_"
      },
      "source": [
        "**1.c) (1 PUNTO) Mostrad tres gráficas de dispersión (_scatter plot_) de los dos primeros componentes para:**\n",
        "\n",
        "- **Los datos originales.**\n",
        "- **El espacio PCA obtenido a partir de los datos sin escalar (datos originales proyectados al nuevo espacio PCA).**\n",
        "- **El espacio PCA obtenido a partir de los datos escalados (datos originales escalados y, posteriormente, proyectados al nuevo espacio PCA).**\n",
        "\n",
        "**Comentad los resultados.**"
      ]
    },
    {
      "cell_type": "code",
      "metadata": {
        "id": "3BROIyq1lIn8"
      },
      "source": [
        "# Exercicio 1.c: añadid y ejecutad vuestro código"
      ],
      "execution_count": 169,
      "outputs": []
    },
    {
      "cell_type": "markdown",
      "metadata": {
        "id": "A0YrjB4X6Kqo"
      },
      "source": [
        "Exercicio 1.c: Doble-click (o enter) para añadir vuestra respuesta."
      ]
    },
    {
      "cell_type": "markdown",
      "metadata": {
        "id": "jmvsaJ_v6wDR"
      },
      "source": [
        "**1.d) (1 PUNTO) Para los dos espacios PCA obtenidos, con datos escaldados y sin escalar, utilizad la librería _SeaBorn_ y su método _boxplot_ para crear 10 diagramas de cajas (para cada uno) y visualizar los atributos (eje y) para cada clase del conjunto de datos (eje x).**\n",
        "\n",
        "**_SeaBorn_ es una librería en Python para visualización de datos basada en _matplotlib_ que implementa una interficie de alto nivel para crear atractivos e informativos gráficos estadísticos.**\n",
        "\n",
        "\n",
        "https://seaborn.pydata.org/\n",
        "\n",
        "https://seaborn.pydata.org/generated/seaborn.boxplot.html\n",
        "\n",
        "**Nota: Utilizad _matplotlib.pyplot.subplots_ con parámetro _sharey=True_ para crear una rejilla de 2x10 ejes (2 filas para los dos espacios PCA y 10 columnas para los 10 atributos).**"
      ]
    },
    {
      "cell_type": "code",
      "metadata": {
        "id": "LsKwrD16D2Ja"
      },
      "source": [
        "# Exercicio 1.d: añadid y ejecutad vuestro código"
      ],
      "execution_count": 170,
      "outputs": []
    },
    {
      "cell_type": "markdown",
      "metadata": {
        "id": "C-FkvWPlC_8y"
      },
      "source": [
        "Exercicio 1.d: Doble-click (o enter) para añadir vuestra respuesta."
      ]
    },
    {
      "cell_type": "markdown",
      "metadata": {
        "id": "TtPT5c117I5_"
      },
      "source": [
        "**1.e) (1 PUNTO) Mostrad las gráficas de la varianza acumulada explicada por los espacios PCA en relación al número de componentes (a partir de datos escalados y sin escalar). Comparadlas y comentad la relación con los diagramas de cajas del ejercicio anterior. En el caso de los datos escalados, identificad cuántos componentes PCA son necesarios para representar un 95% de la varianza de los datos originales. ¿Qué problema hay cuando el análisis PCA se lleva a cabo sobre datos sin escalar?**"
      ]
    },
    {
      "cell_type": "code",
      "metadata": {
        "id": "q_os8DwPs5Qg"
      },
      "source": [
        "# Exercicio 1.e: añadid y ejecutad vuestro código"
      ],
      "execution_count": 171,
      "outputs": []
    },
    {
      "cell_type": "markdown",
      "metadata": {
        "id": "QdvvOqYrGDCf"
      },
      "source": [
        "Exercicio 1.e: Doble-click (o enter) para añadir vuestra respuesta."
      ]
    },
    {
      "cell_type": "markdown",
      "metadata": {
        "id": "W8eC9MMj7zWh"
      },
      "source": [
        "**1.f) (1 PUNTO) Utilizando datos escalados, reconstruid el conjunto de datos con 5 componentes PCA (método _inversetransform_) y calculad la pérdida de información respecto a los datos originales. Para hacerlo, calculad el promedio de las diferencias elevadas al cuadrado entre cada elemento del conjunto reconstruido y del original. ¿Qué relación tienen estos valores respecto a las varianzas acumuladas calculadas en el apartado anterior?**"
      ]
    },
    {
      "cell_type": "code",
      "metadata": {
        "id": "RfQm3WvE6Phf"
      },
      "source": [
        "# Exercicio 1.f: añadid y ejecutad vuestro código"
      ],
      "execution_count": 172,
      "outputs": []
    },
    {
      "cell_type": "markdown",
      "metadata": {
        "id": "DnbZg5wEGI5W"
      },
      "source": [
        "Exercicio 1.f: Doble-click (o enter) para añadir vuestra respuesta."
      ]
    },
    {
      "cell_type": "markdown",
      "metadata": {
        "id": "gua8EbpNGdMm"
      },
      "source": [
        "## EJERCICIO 2"
      ]
    },
    {
      "cell_type": "markdown",
      "metadata": {
        "id": "jLNe3s3YL3ed"
      },
      "source": [
        "En este ejercicio trabajaremos con diferentes algoritmos de clasificación, técnicas de validación y medidas de evaluación. Para ello utilizaremos una nueva versión del conjunto de datos. La cantidad de muestras se ha reducido aún más y la cantidad de clases se ha reducido a dos para facilitar la comparación entre diferentes algoritmos de clasificación. Estudiad y ejecutad el código proporcionado en la siguiente celda."
      ]
    },
    {
      "cell_type": "code",
      "metadata": {
        "id": "TgUJYgHCuEe4",
        "colab": {
          "base_uri": "https://localhost:8080/"
        },
        "outputId": "92c9a71d-2a39-48e2-9113-629af1ca880a"
      },
      "source": [
        "n_samples2 = 700\n",
        "n_attributes2 = 54\n",
        "df_features2 = pd.DataFrame(features[:n_samples2, :n_attributes2])\n",
        "\n",
        "labels2 = [1 if value==2 else 0 for value in labels]\n",
        "df_labels2 = pd.DataFrame({'label': labels2[:n_samples2]})\n",
        "\n",
        "print(\"No. of attributes = \" + str(len(df_features2.columns)))\n",
        "print(\"No. of classes = \" + str(len(np.unique(labels2))))\n",
        "print(\"No. of samples = \" + str(len(df_features2)))\n",
        "print(\"\\--No. of samples class 0 = \" + \n",
        "      str(df_labels2[df_labels2==0].count()['label']))\n",
        "print(\"\\--No. of samples class 1 = \" + \n",
        "      str(df_labels2[df_labels2==1].count()['label']))"
      ],
      "execution_count": 173,
      "outputs": [
        {
          "output_type": "stream",
          "text": [
            "No. of attributes = 54\n",
            "No. of classes = 2\n",
            "No. of samples = 700\n",
            "\\--No. of samples class 0 = 289\n",
            "\\--No. of samples class 1 = 411\n"
          ],
          "name": "stdout"
        }
      ]
    },
    {
      "cell_type": "markdown",
      "metadata": {
        "id": "Abeh-MpHL5cs"
      },
      "source": [
        "**2.a) (1.5 PUNTOS) Entrenad los siguientes clasificadores, implementados en _scikit-learn_, utilizando el 80% de los datos disponibles (conjunto de entrenamiento) y calculad el tiempo de entrenamiento para cada uno (módulo python _timeit_):**\n",
        "\n",
        "- **K Nearest Neighbours: 5 vecinos (primer parámetro).**\n",
        "- **Linear SVM: kernel =”rbf”, C=25, y valores por defecto para el resto de parámetros.**\n",
        "- **Decision Tree: criterion =”entropy”, max_depth =5, y valores por defecto para el resto de parámetros.**\n",
        "- **AdaBoost: valores per defecto.**\n",
        "- **Gaussian Naive Bayes: valores per defecto.**\n",
        "\n",
        "https://scikit-learn.org/stable/modules/generated/sklearn.neighbors.KNeighborsClassifier.html\n",
        "\n",
        "https://scikit-learn.org/stable/modules/generated/sklearn.svm.SVC.html\n",
        "\n",
        "https://scikit-learn.org/stable/modules/generated/sklearn.tree.DecisionTreeClassifier.html\n",
        "\n",
        "https://scikit-learn.org/stable/modules/generated/sklearn.ensemble.AdaBoostClassifier.html\n",
        "\n",
        "https://scikit-learn.org/stable/modules/generated/sklearn.naive_bayes.GaussianNB.html"
      ]
    },
    {
      "cell_type": "code",
      "metadata": {
        "id": "YTa06DrcBbsg"
      },
      "source": [
        "# Exercicio 2.a: añadid y ejecutad vuestro código"
      ],
      "execution_count": 174,
      "outputs": []
    },
    {
      "cell_type": "markdown",
      "metadata": {
        "id": "iRLrH6-hL-U8"
      },
      "source": [
        "Exercicio 2.a: Doble-click (o enter) para añadir vuestra respuesta."
      ]
    },
    {
      "cell_type": "markdown",
      "metadata": {
        "id": "4vLMFICDMPG_"
      },
      "source": [
        "**2.b) (1 PUNTO) Evaluación del funcionamiento de los clasificadores entrenados en el Ejercicio 2.a.**\n",
        "\n",
        "**Mostrad en una única figura todas las curvas ROC correspondientes a los clasificadores utilizando los datos restantes (20% como conjunto de test). Comentad los resultados y comparad el funcionamiento de los diferentes algoritmos. ¿Cuál de ellos sería vuestro escogido para la tarea planteada?**\n",
        "\n",
        "https://scikit-learn.org/stable/modules/generated/sklearn.metrics.plot_roc_curve.html"
      ]
    },
    {
      "cell_type": "code",
      "metadata": {
        "id": "AwXCXWDVM-oI"
      },
      "source": [
        "# Exercicio 2.b: añadid y ejecutad vuestro código"
      ],
      "execution_count": 175,
      "outputs": []
    },
    {
      "cell_type": "markdown",
      "metadata": {
        "id": "aH2HDWN7MSBd"
      },
      "source": [
        "Exercicio 2.b: Doble-click (o enter) para añadir vuestra respuesta."
      ]
    },
    {
      "cell_type": "markdown",
      "metadata": {
        "id": "n6iwRT9EMG_F"
      },
      "source": [
        "**2.c) (1.5 PUNTOS) Entrenad y validad los mismos clasificadores descritos en el Ejercicio 2.a utilizando validación cruzada con k=5 en todo el conjunto de datos. Obtened accuracy, precisión, recall, F1-score y ROC-AUC para cada clasificador y comentad los resultados.**\n",
        "\n",
        "https://scikit-learn.org/stable/modules/generated/sklearn.model_selection.cross_validate.html\n",
        "\n",
        "**Nota: Utilizad _sklearn.model_selection.RepeatedStratifiedKFold_ (con parámetros *n_repeats*=1 y _random_state_=1) en el parámetro _cv_ de _cross_validate_ para crear _splits_ idénticos para validar todos los clasificadores.**\n",
        "\n",
        "https://scikit-learn.org/stable/modules/generated/sklearn.model_selection.RepeatedStratifiedKFold.html"
      ]
    },
    {
      "cell_type": "code",
      "metadata": {
        "id": "LTDXAV_e5P8W"
      },
      "source": [
        "# Exercicio 2.c: añadid y ejecutad vuestro código"
      ],
      "execution_count": 176,
      "outputs": []
    },
    {
      "cell_type": "markdown",
      "metadata": {
        "id": "oSZCf7lTMKWH"
      },
      "source": [
        "Exercicio 2.c: Doble-click (o enter) para añadir vuestra respuesta."
      ]
    }
  ]
}