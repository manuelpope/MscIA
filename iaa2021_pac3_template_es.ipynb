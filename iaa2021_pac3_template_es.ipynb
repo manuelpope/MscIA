{
  "nbformat": 4,
  "nbformat_minor": 0,
  "metadata": {
    "colab": {
      "name": "iaa2021_pac3_template_es.ipynb",
      "provenance": [],
      "collapsed_sections": [],
      "include_colab_link": true
    },
    "kernelspec": {
      "name": "python3",
      "display_name": "Python 3"
    },
    "language_info": {
      "name": "python"
    }
  },
  "cells": [
    {
      "cell_type": "markdown",
      "metadata": {
        "id": "view-in-github",
        "colab_type": "text"
      },
      "source": [
        "<a href=\"https://colab.research.google.com/github/manuelpope/MscIA/blob/main/iaa2021_pac3_template_es.ipynb\" target=\"_parent\"><img src=\"https://colab.research.google.com/assets/colab-badge.svg\" alt=\"Open In Colab\"/></a>"
      ]
    },
    {
      "cell_type": "markdown",
      "metadata": {
        "id": "t8JTb7c7Gf6O"
      },
      "source": [
        "##### M0.539 · IAA · PEC3 · 2020-21 · 2\n",
        "##### Màster universitari d'Enginyeria Computacional i Matemàtica\n",
        "##### Universitat Oberta de Catalunya, Universitat Rovira i Virgili"
      ]
    },
    {
      "cell_type": "markdown",
      "metadata": {
        "id": "jrG4AzzxUmC3"
      },
      "source": [
        "# PEC3: OPTIMIZACIÓN"
      ]
    },
    {
      "cell_type": "markdown",
      "metadata": {
        "id": "L6CG9OsqVOJ9"
      },
      "source": [
        "## INTRODUCCIÓN"
      ]
    },
    {
      "cell_type": "markdown",
      "metadata": {
        "id": "zMqpqloqVXmw"
      },
      "source": [
        "En esta prueba de evaluación estudiaremos el comportamiento y características de los algoritmos genéticos mediante la implementación de una versión muy simple de ellos. "
      ]
    },
    {
      "cell_type": "markdown",
      "metadata": {
        "id": "1zHV-LgDVjm6"
      },
      "source": [
        "## COMPETENCIAS"
      ]
    },
    {
      "cell_type": "markdown",
      "metadata": {
        "id": "PHTnAQYlVqjK"
      },
      "source": [
        "En este enunciado se trabajan las siguientes competencias generales de\n",
        "máster:\n",
        "- Capacidad para proyectar, calcular y diseñar productos, procesos e\n",
        "instalaciones en todos los ámbitos de la ingeniería informática.\n",
        "- Capacidad para el modelado matemático, cálculo y simulación en\n",
        "centros tecnológicos y de ingeniería de empresa, particularmente en\n",
        "tareas de investigación, desarrollo e innovación en todos los ámbitos\n",
        "relacionados con la ingeniería informática.\n",
        "- Capacidad para aplicar los conocimientos adquiridos y solucionar\n",
        "problemas en entornos nuevos o poco conocidos dentro de contextos\n",
        "más amplios y multidisciplinares, siendo capaces de integrar estos\n",
        "conocimientos.\n",
        "- Poseer habilidades para el aprendizaje continuo, autodirigido y\n",
        "autónomo.\n",
        "- Capacidad para modelar, diseñar, definir la arquitectura, implantar,\n",
        "gestionar, operar, administrar y mantener aplicaciones, redes,\n",
        "sistemas, servicios y contenidos informáticos.\n",
        "\n",
        "Las competencias específicas de esta asignatura que se trabajan en esta\n",
        "prueba son:\n",
        "- Entender qué es el aprendizaje automático en el contexto de la\n",
        "inteligencia artificial.\n",
        "- Distinguir entre los diferentes tipos y métodos de aprendizaje.\n",
        "- Aplicar las técnicas estudiadas a un caso real."
      ]
    },
    {
      "cell_type": "markdown",
      "metadata": {
        "id": "-kRePYp-EGzP"
      },
      "source": [
        "## RECURSOS\n",
        "\n",
        "Esta PEC requiere los recursos siguientes:\n",
        "\n",
        "Archivos proporcionados:\n",
        "\n",
        "  * iaa2021_pac3_template_es.ipynb\n",
        "\n",
        "Complementarios: \n",
        "  * Manual de teoría de la asignatura, **especialmente su apartado 5.5**."
      ]
    },
    {
      "cell_type": "markdown",
      "metadata": {
        "id": "ZHUoHxYBB6jo"
      },
      "source": [
        "## ENTREGA Y CRITERIOS DE EVALUACIÓN\n",
        "\n",
        "La PEC se debe entregar el **25 de mayo de 2021**.\n",
        "\n",
        "La entrega debe incluir una versión editada de este cuaderno (.ipynb). Se recomienda el uso de Google Colab (https://colab.research.google.com/). El código de las soluciones a los ejercicios se debe implementar y ejecutar en las celdas de código proporcionadas y la respuestas justificadas se deben agregar a las celdas de texto correspondientes.\n",
        "\n",
        "Todas las respuestas deben estar correctamente razonadas y justificadas. **Las soluciones que no vayan acompañadas de la correspondiente respuesta razonada no serán evaluadas**.\n"
      ]
    },
    {
      "cell_type": "markdown",
      "metadata": {
        "id": "p6A6AVoYWloS"
      },
      "source": [
        "## DESCRIPCIÓN DE LA PEC"
      ]
    },
    {
      "cell_type": "markdown",
      "metadata": {
        "id": "eIPMykjfXB0q"
      },
      "source": [
        "En esta PEC vamos a implementar un algoritmo genético (GA) básico, analizaremos su comportamiento con algunas funciones a optimizar que poseen características interesantes para evaluar algoritmos de optimización, y razonaremos a nivel teórico las implicaciones de los distintos tipos de configuración del algoritmo.\n",
        "\n",
        "Al final de la realización de esta PEC, el alumno debería tener la capacidad suficiente como para adaptar el algoritmo a distintos problemas de optimización, pero para la realización de ésta se proporcionan más adelante las codificaciones de tres de las funciones explicadas en:\n",
        "\n",
        "> Anescu, George. \"Scalable test functions for multidimensional continuous optimization\". _UPB Scientific Bulletin, Series C: Electrical Engineering_ 79(4) (2017).\n",
        "\n",
        "Se puede acceder a una versión completa del artículo [mediante este enlace de ResearchGate](https://www.researchgate.net/publication/321037474_Scalable_test_functions_for_multidimensional_continuous_optimization).\n",
        "\n",
        "\n"
      ]
    },
    {
      "cell_type": "markdown",
      "metadata": {
        "id": "fVJ4O8xic1jq"
      },
      "source": [
        "**MUY IMPORTANTE**\n",
        "\n",
        "En los ejercicios en los que se solicita implementar código dentro de un fragmento de código dado, tan solo podéis incluir código entre los comentarios *# TO DO...* y *# END OF TO DO*:\n",
        "\n",
        "```\n",
        "  # TO DO: Do something...\n",
        "\n",
        "  # Your code here ...\n",
        "  \n",
        "  # END OF TO DO\n",
        "```\n",
        "\n",
        "***No está permitido modificar código ya proporcionado ni escribir fuera de estas áreas (excepto si creáis funciones auxiliares propias que son llamadas desde dentro de las regiones indicadas). De lo contrario, el ejercicio será evaluado con un 0.***"
      ]
    },
    {
      "cell_type": "markdown",
      "metadata": {
        "id": "29Zz1biD8jcj"
      },
      "source": [
        "<hr>"
      ]
    },
    {
      "cell_type": "markdown",
      "metadata": {
        "id": "IPa7a1yVr_Lm"
      },
      "source": [
        "## EJERCICIO 1"
      ]
    },
    {
      "cell_type": "markdown",
      "metadata": {
        "id": "7dPC37jIRgOF"
      },
      "source": [
        "Como se puede observar en el artículo anterior, nos basaremos en la optimización de funciones que admiten un número indeterminado de variables de entrada, todas dentro del dominio de los números reales.\n",
        "\n",
        "Para la implementación de un algoritmo genético, un elemento esencial es la codificación de las posibles soluciones del problema, o dicho de otro modo, la codificación de los individuos que evolucionarán durante la ejecución del algoritmo a través de distintas poblaciones a las que se les aplicarán diferentes operadores evolutivos hasta alcanzar una condición de finalización, bien sea basada en el tiempo transcurrido, o en la calidad de los resultados obtenida.\n",
        "\n",
        "En esta ocasión, la codificación que emplearemos será muy básica: si queremos optimizar las distintas funciones en un espacio N-dimensional, nuestros individuos consistirán simplemente en N valores reales. Cada uno de estos valores será uno de sus genes y corresponderá al valor de una variable de entrada de la función.\n",
        "\n",
        "Así, si tenemos una función f<sub>1</sub>(**x**) donde **x**=(x<sub>1</sub>, x<sub>2</sub>, x<sub>3</sub>, ..., x<sub>n</sub>), nuestro individuo consistirá en un array de *n* valores reales, y la función devuelve un valor a partir de esos *n* valores.\n",
        "\n",
        "Un ejemplo gráfico para una función se muestra en el artículo referenciado. En el caso de f<sub>10</sub>, el artículo nos muestra que el mínimo teórico se encuentra en x = (0.4, 0.4) para n=2. El objetivo de nuestro algoritmo genético sería encontrar este valor mínimo.\n",
        "\n",
        "Para facilitar ciertos cálculos durante la PEC, la representación de los individuos y demás operaciones estarán basados en [la representación de arrays de la librería numpy](https://numpy.org/doc/stable/reference/generated/numpy.array.html).\n",
        "\n",
        "Así pues, nuestro primer paso será importar las librerías y útiles necesarios:\n",
        "\n"
      ]
    },
    {
      "cell_type": "code",
      "metadata": {
        "id": "SrYuYnKU1yKC"
      },
      "source": [
        "import numpy as np\n",
        "from numpy.random import choice\n",
        "import random"
      ],
      "execution_count": 204,
      "outputs": []
    },
    {
      "cell_type": "markdown",
      "metadata": {
        "id": "DDHAtn8hQGYU"
      },
      "source": [
        "Teniendo en cuenta la definición de individuo que acabamos de realizar, una función sencilla que genera una población aleatoria de individuos de un determinado tamaño y sujetos a una serie de restricciones sería como sigue:"
      ]
    },
    {
      "cell_type": "code",
      "metadata": {
        "id": "PH9qrdfeH3Lh"
      },
      "source": [
        "def generate_random_population(npop, limits=list(zip(np.zeros(5),np.ones(5))), ngenes=5):\n",
        "  \n",
        "  def new_ind():\n",
        "    return [random.uniform(limits[i][0], limits[i][1]) for i in range(ngenes)]\n",
        "\n",
        "  return np.array([new_ind() for n in range(npop)])\n",
        "\n"
      ],
      "execution_count": 205,
      "outputs": []
    },
    {
      "cell_type": "markdown",
      "metadata": {
        "id": "gK5oIs36Z9LE"
      },
      "source": [
        "Como se puede observar, uno de los parámetros de entrada es una lista de tuplas que representan los límites mínimos y máximos de cada uno de los valores, definiendo así el dominio de la función. En este caso, el valor **por defecto** de este parámetro es una lista de 5 tuplas (0.0, 1.0), con lo que los valores mínimo y máximo serán 0 y 1, respectivamente. El valor del parámetro *ngenes* (longitud de cada individuo) ha de coincidir con la longitud de la lista *limits*."
      ]
    },
    {
      "cell_type": "markdown",
      "metadata": {
        "id": "lfukvlhnLxun"
      },
      "source": [
        "**1.a) (0.5 PUNTOS) Explicad en qué consiste la función *generate_random_population*, qué significan sus argumentos y para qué se utilizan.**\n",
        "\n",
        "\n"
      ]
    },
    {
      "cell_type": "markdown",
      "metadata": {
        "id": "_M8CeKJu8WSf"
      },
      "source": [
        "**Respuesta:**\n",
        "\n",
        "*En Terminos de Algortimos:*\n",
        "\n",
        "\n",
        "*Las funciones generadoras regresan arreglos (vectores) estos basados en un calculo interno dentro la funcion, Para este caso sus entradas son el tamano de la poblacion , sus limites y la cantidad de diferentes genes que van a estar en el proceso.Teniendo como valores default catidad de genes igual a 5 y los limites una lista de 5 posiciones rellena de unos si no es tomado otro valor como argumento. En la iteracion de n habitantes se van generanto y retornando cada individuo_i este se realiza utilizando las funciones random con distribucion uniforme ,variando el valor de cada gen al azar entre 0 y 1.Hace uso de esta funcion recursiva y da una lista de listas con las probabilidades generadas en cada gen por cada individuo.*"
      ]
    },
    {
      "cell_type": "markdown",
      "metadata": {
        "id": "o7rV4hb5S030"
      },
      "source": [
        "**1.b) (0.5 PUNTOS) Para que la función *generate_random_population* funcione correctamente, es necesario realizar algunas comprobaciones. Redefinid la función de manera que se realicen las comprobaciones necesarias para que la población resultante tenga sentido y no haya errores de ejecución. Mostrad un mensaje de error en caso que no se cumplan las condiciones adecuadas.** \n",
        "\n",
        "\n"
      ]
    },
    {
      "cell_type": "code",
      "metadata": {
        "id": "DGbLoyISU_eK"
      },
      "source": [
        "def generate_random_population(npop, limits=list(zip(np.zeros(5),np.ones(5))), ngenes=5):\n",
        "  # TO DO: Do something...\n",
        "  try:\n",
        "        test = npop/npop\n",
        "        test = ngenes/ngenes\n",
        "        if ngenes>len(limits) or not isinstance(ngenes,int):\n",
        "            print(\"Its not a possible combination of ngenes>len(limits) or ngenes is not a Integer\")\n",
        "            return\n",
        "    \n",
        "  except (TypeError, ZeroDivisionError):\n",
        "      raise print(\" !!!!  npop or ngenes should not be zero !!!!\")\n",
        "\n",
        "  # END OF TO DO\n",
        "  def new_ind():\n",
        "    return [random.uniform(limits[i][0], limits[i][1]) for i in range(ngenes)]\n",
        "\n",
        "  return np.array([new_ind() for n in range(npop)])"
      ],
      "execution_count": 206,
      "outputs": []
    },
    {
      "cell_type": "markdown",
      "metadata": {
        "id": "ppwwqz-T8EYI"
      },
      "source": [
        "<hr>"
      ]
    },
    {
      "cell_type": "markdown",
      "metadata": {
        "id": "wLTZ1Vb-Wzht"
      },
      "source": [
        "Otro aspecto esencial para el funcionamiento de un GA es la puntuación que los diferentes individuos reciben como medio para evaluar cuán bueno es un individuo a la hora de optimizar nuestro problema. Así, cuando disponemos de una determinada población, hemos de ser capaces de evaluar todos los individuos y darles una puntuación, de manera que podamos ordenar la población según la bondad de sus individuos para resolver nuestro problema.\n",
        "\n",
        "A continuación se definen 3 de las funciones discutidas en el artículo anteriormente referenciado, que serán la base de nuestros posteriores ejercicios. Éstas corresponden a las funciones f<sub>1</sub>, f<sub>8</sub> y f<sub>13</sub> del apartado 3 del artículo, donde podéis encontrar sus peculiaridades y valores óptimos teóricos. Las funciones reciben como argumento un individuo tal y como lo hemos definido anteriormente, y devuelven su correspondiente valor.\n",
        "\n",
        "Por ejemplo, f<sub>1</sub> solo tiene un mínimo (unimodal) en x= (0,0,...,0) en el cual f<sub>1</sub> = 0.\n",
        "\n",
        "Podéis definir libremente vuestras propias funciones alternativas para vuestras propias comprobaciones, aunque más adelante comprobaremos el funcionamiento del GA con estas 3 funciones. "
      ]
    },
    {
      "cell_type": "code",
      "metadata": {
        "id": "IsxBIchL0yBp"
      },
      "source": [
        "def fopt1(ind):\n",
        "  \n",
        "  x0 = [ind[len(ind)-1]]\n",
        "  xlast = [ind[0]]\n",
        "  working_array = np.concatenate((x0,ind,xlast))\n",
        "  res = 0\n",
        "\n",
        "  for j in range(1, len(ind)+1):\n",
        "    res += (2*working_array[j-1] + (working_array[j]**2)*working_array[j+1] - working_array[j+1])**2\n",
        "  \n",
        "  return res\n",
        "\n",
        "def fopt8(ind):\n",
        "  \n",
        "  x0 = [ind[len(ind)-1]]\n",
        "  xlast = [ind[0]]\n",
        "  working_array = np.concatenate((x0,ind,xlast))\n",
        "  term = ((working_array[1]+1)**2)/len(ind)\n",
        "  sum = 0\n",
        "\n",
        "  for j in range(1, len(ind)+1):\n",
        "    sum += (working_array[j] - 2*(working_array[j-1] + working_array[j+1]) - working_array[j-1]*working_array[j+1] - 2)**2\n",
        "  \n",
        "  return term + sum\n",
        "\n",
        "def fopt13(ind):\n",
        "  \n",
        "  x0 = [ind[len(ind)-2]]\n",
        "  xlast = [ind[0]]\n",
        "  working_array = np.concatenate((x0,ind,xlast))\n",
        "  sum0 = 0\n",
        "  sum1 = 0\n",
        "\n",
        "  for j in range(1, len(ind)+1):\n",
        "    sum0 += (working_array[j-1]*working_array[j]**4 - working_array[j+1]*working_array[j]**3 + working_array[j-1]*working_array[j+1] - working_array[j+1])**2\n",
        "\n",
        "  for j in range(len(ind)):\n",
        "    sum1 += ind[j]\n",
        "\n",
        "  return sum0 + sum1\n"
      ],
      "execution_count": 207,
      "outputs": []
    },
    {
      "cell_type": "markdown",
      "metadata": {
        "id": "zosglWXGN5US"
      },
      "source": [
        "<hr>"
      ]
    },
    {
      "cell_type": "markdown",
      "metadata": {
        "id": "4Wc6j30dOAmc"
      },
      "source": [
        "Estas funciones suponen un problema interesante a la hora de encontrar sus mínimos absolutos. Por ello, por el momento nos centraremos en el problema de minimizar una función. Consideraremos que nuestros problemas de optimización consisten en minimizar las funciones objetivo."
      ]
    },
    {
      "cell_type": "markdown",
      "metadata": {
        "id": "YJx-m9npYFsh"
      },
      "source": [
        "**1.c) (1 PUNTO) Implementar la función *eval_pop*, que recibe una determinada población de individuos y una función de evaluación (normalmente denominada *fitness function*) y devuelve una lista ordenada de tuplas, en las que el primer elemento es un individuo de la población y el segundo elemento es su correspondiente puntuación.\n",
        "La lista de tuplas devuelta deberá estar ordenada en orden decreciente (el primer elemento es el que mejor resultado ha obtenido).** \n",
        "\n",
        "\n"
      ]
    },
    {
      "cell_type": "code",
      "metadata": {
        "id": "rtDgIdS7Oy5L"
      },
      "source": [
        "def eval_pop(pop, f):\n",
        "  # Returns a list of tuples in descending order of the goodness of f. Shape of tuples are (individual, score), e.g., ([2.3,0.004,1,8.2,6], 0.361).\n",
        "  \n",
        "  # TO DO: Implement the function\n",
        "\n",
        "  def takeSecond(elem):\n",
        "    return elem[1]\n",
        "  listMapFuntion = [f(elem) for elem in pop]\n",
        "  sorted_list= list(zip(pop,listMapFuntion))\n",
        "  sorted_list.sort(key=takeSecond,reverse=False)\n",
        "\n",
        "\n",
        "  # END OF TO DO\n",
        "\n",
        "  return sorted_list\n",
        "  \n"
      ],
      "execution_count": 208,
      "outputs": []
    },
    {
      "cell_type": "markdown",
      "metadata": {
        "id": "xBl8jnpM8TB_"
      },
      "source": [
        "<hr>"
      ]
    },
    {
      "cell_type": "markdown",
      "metadata": {
        "id": "h9Jjeq4Ibs_J"
      },
      "source": [
        "## EJERCICIO 2"
      ]
    },
    {
      "cell_type": "markdown",
      "metadata": {
        "id": "Lsi-kI-lbs_K"
      },
      "source": [
        "Una vez tenemos nuestra población ordenada según la bondad del resultado de cada individuo, estamos en disposición de aplicar el resto de operadores genéticos. Un paso necesario para poder producir una siguiente generación de individuos es el de seleccionar las parejas que se cruzarán para tener descendencia.\n",
        "\n",
        "Para ello, disponemos del siguiente código que, como se puede observar, tan solo trabaja con poblaciones de tamaño superior a 9:\n",
        "\n"
      ]
    },
    {
      "cell_type": "code",
      "metadata": {
        "id": "4E8IBjF15blw"
      },
      "source": [
        "def couples_selection(ordered_pop, n_elitism):\n",
        "\n",
        "  if len(ordered_pop) < 10:\n",
        "    print(\"Error: population's size should be higher than 9\")\n",
        "    return\n",
        "  \n",
        "  len_a = int(len(ordered_pop)/10)\n",
        "  len_b = len_a * 3\n",
        "  len_c = len_a * 4\n",
        "\n",
        "  a = np.ones(len_a) * 0.5 / len_a\n",
        "  b = np.ones(len_b) * 0.3 / len_b\n",
        "  c = np.ones(len_c) * 0.15 / len_c\n",
        "  d = np.ones(len(ordered_pop) - len_a*8)\n",
        "  d = d * 0.05 / len(d)\n",
        "\n",
        "  prob = np.concatenate((a,b,c,d))\n",
        "  indices = range(len(ordered_pop))\n",
        "  selected_indices = [choice(indices, 2, p=prob) for i in range(len(ordered_pop) - n_elitism)]\n",
        "  couples = [[ordered_pop[i1], ordered_pop[i2]] for [i1,i2] in selected_indices]\n",
        "  return np.array(couples)\n"
      ],
      "execution_count": 209,
      "outputs": []
    },
    {
      "cell_type": "markdown",
      "metadata": {
        "id": "-VN6t0HErgD1"
      },
      "source": [
        "**2.a) (1 PUNTO) Explicar detalladamente qué hace la función *couples_selection*: qué son los argumentos que recibe, qué devuelve, qué comprobaciones se hacen, cuál es el criterio de selección, el porqué de n_elitism, etc.**"
      ]
    },
    {
      "cell_type": "markdown",
      "metadata": {
        "id": "j4bYbaVG7ybe"
      },
      "source": [
        "**Respuesta:**\n",
        "*Indicad aquí vuestra respuesta*"
      ]
    },
    {
      "cell_type": "markdown",
      "metadata": {
        "id": "8DxMZqcZ77S_"
      },
      "source": [
        "<hr>\n"
      ]
    },
    {
      "cell_type": "markdown",
      "metadata": {
        "id": "0N6RQTJXrfEu"
      },
      "source": [
        "En esta versión simplificada de nuestro GA, consideraremos que cada pareja tan solo puede producir un descendiente, y que la manera de producirlo siempre será mediante la estrategia de cruce en dos puntos (**ver apartado 5.5.1 de los apuntes de la asignatura, en especial la figura 52**).\n",
        "\n",
        "Como ya sabemos, en un paso evolutivo, después de haber seleccionado las diferentes parejas que tendrán descendencia, éstas se cruzan y, en este punto, pueden surgir mutaciones. \n",
        "\n",
        "En nuestra versión simplificada de nuestro GA, el resultado de todo este proceso sería el que devuelve la función *get_offspring* a continuación, que devuelve un array de individuos de igual tamaño que el array de parejas de entrada, y que tiene en cuenta los procesos de cruce y mutación anteriormente descritos."
      ]
    },
    {
      "cell_type": "markdown",
      "metadata": {
        "id": "Ztx-iE3_z2PY"
      },
      "source": [
        "**2.b) (2 PUNTOS) Teniendo en cuenta las funciones *mutate* y *get_offspring* proporcionadas a continuación, completar la definición de la función *crossover*, que recibe una pareja de individuos y devuelve un nuevo individuo resultado de aplicar la estrategia de cruce en 2 puntos. El tipo del resultado será *ndarray*. Podéis consultar la documentación de [numpy.concatenate](https://numpy.org/doc/stable/reference/generated/numpy.concatenate.html), por si os es útil para formar el nuevo individuo.** \n",
        "\n",
        "**NOTA: NO está permitido modificar las funciones *mutate* y *get_offspring*. La función *crossover* debe adaptarse a ellas teniendo en cuenta cómo es llamada. Es importante notar que la función *crossover* no necesita realizar ningún tipo de mutación, ya que se realiza después de su llamada.**"
      ]
    },
    {
      "cell_type": "code",
      "metadata": {
        "id": "Seq-DVREM6B7"
      },
      "source": [
        "def mutate(ind, limits):\n",
        "  # print(\"Mutating individual \", ind)\n",
        "  factor = 1 + (0.2 * choice([-1,1], 1))\n",
        "  gene_index = choice(range(len(ind)), 1)[0]\n",
        "  mutated_val = ind.item(gene_index) * factor\n",
        "\n",
        "  if mutated_val < limits[gene_index][0]:\n",
        "    mutated_val = limits[gene_index][0]\n",
        "  elif mutated_val > limits[gene_index][1]:\n",
        "    mutated_val = limits[gene_index][1]\n",
        "\n",
        "  ind[gene_index] = mutated_val\n",
        "\n",
        "  return\n",
        "\n",
        "\n",
        "def crossover(couple):\n",
        "    ancestor1 = couple[0]\n",
        "    ancestor2 = couple[1]\n",
        "    # TO DO: Complete the crossover function according to what's described in\n",
        "    # section 5.5.1 and figure 52 of the subject's materials.\n",
        "\n",
        "    rangeX= range(0,len(ancestor1),4)\n",
        "\n",
        "\n",
        "\n",
        "    offspring=np.zeros(len(ancestor1))\n",
        "\n",
        "    for i in rangeX:\n",
        "        if i+1 <= len(ancestor1)-1:\n",
        "            offspring[i]=ancestor1[i]\n",
        "            offspring[i+1]=ancestor1[i+1]\n",
        "            ancestor2[i] = 0\n",
        "            ancestor2[i+1] =0\n",
        "\n",
        "    offspring=offspring+ancestor2\n",
        "\n",
        "    return offspring\n",
        "\n",
        "\n",
        "\n",
        "    # Your code here ...\n",
        "\n",
        "    # END OF TO DO\n",
        "\n",
        "\n",
        "  \n",
        "\n",
        "def get_offspring(couples, mutp, limits):\n",
        "  mp=mutp\n",
        "  children = [crossover(couple) for couple in couples]\n",
        "  mutation_roulette = [choice([True, False], 1, p=[mp, 1-mp]) for _ in children]\n",
        "  children_roulette = list(zip(children, mutation_roulette))\n",
        "\n",
        "  for child in children_roulette:\n",
        "    if child[1][0]:\n",
        "      mutate(child[0], limits) \n",
        "      # print(\"Mutated: \",child[0])\n",
        "\n",
        "  return np.array([child[0] for child in children_roulette])\n",
        "    \n",
        "  \n",
        "\n"
      ],
      "execution_count": 210,
      "outputs": []
    },
    {
      "cell_type": "markdown",
      "metadata": {
        "id": "t2oUk8l_9ttI"
      },
      "source": [
        "<hr>"
      ]
    },
    {
      "cell_type": "markdown",
      "metadata": {
        "id": "DGGw6lsg3ZP1"
      },
      "source": [
        "## EJERCICIO 3"
      ]
    },
    {
      "cell_type": "markdown",
      "metadata": {
        "id": "qiz6OGJK3ZP2"
      },
      "source": [
        "En este punto, ya disponemos de los operadores de generación de población aleatoria, evaluación, selección, cruce y mutación, así como de una función que nos genera la descendencia de una serie de parejas. ¡Parece que estamos listos para completar nuestro algoritmo genético!  \n",
        "\n"
      ]
    },
    {
      "cell_type": "markdown",
      "metadata": {
        "id": "j2cn-coJ3-T9"
      },
      "source": [
        "**3) (2.5 PUNTOS) Completad la siguiente definición de *runGA*, que recibe un tamaño de población (*npop*), un tamaño de individuo (*ngenes*), unos límites para cada gen de los individuos (*limits*), una función objetivo (*fitness*) para evaluar a cada individuo, un factor de elitismo (*nelitism*), una probabilidad de mutación (*mutp*) y un número de generaciones (*ngenerations*).**\n",
        "\n",
        "La función aplicará los distintos operadores evolutivos EN EL ORDEN ADECUADO durante *ngenerations*, y dará como resultado el individuo ganador de la población correspondiente a la última generación junto con su puntuación obtenida.\n",
        "\n",
        "**MUY IMPORTANTE: Explicad y justificad vuestra implementación. La entrega de código sin razonamiento ni justificación será evaluada con un 0, aunque el algoritmo funcione correctamente.** \n",
        "\n",
        "NOTA 1: Podéis definir todas las funciones auxiliares que consideréis oportunas, o realizar todos vuestros cálculos dentro de la propia función *runGA*. En cualquier caso, es necesario que expliquéis y justifiquéis debidamente todas las acciones que lleváis a cabo.\n",
        "\n",
        "NOTA 2: Una posible ejecución de este algoritmo podría ser la siguiente:\n",
        "\n",
        "````\n",
        "> runGA(1000, 5, list(zip(np.ones(5)*-2,np.ones(5)*2)), fopt13, 4, 0.4, 25)\n",
        "\n",
        "Winner after generation 0 : (array([-1.16228187, -0.92100491, -0.71327896,  0.20645224, -0.31941844]), -1.3719550258326878)\n",
        "Winner after generation 1 : (array([-1.16228187, -0.92100491, -0.71327896,  0.20645224, -0.31941844]), -1.3719550258326878)\n",
        "Winner after generation 2 : (array([-0.98088075, -0.56069746, -0.74013361, -0.94272366, -1.05304763]), -1.504570220226677)\n",
        "Winner after generation 3 : (array([-0.98088075, -0.81577616, -0.74013361, -0.94272366, -1.05304763]), -2.6628565757698066)\n",
        "Winner after generation 4 : (array([-0.98088075, -0.86245533, -0.99179012, -0.94272366, -1.05304763]), -3.8677707421578926)\n",
        "Winner after generation 5 : (array([-0.98088075, -0.86245533, -0.99179012, -0.94272366, -1.05304763]), -3.8677707421578926)\n",
        "Winner after generation 6 : (array([-0.98088075, -0.86245533, -0.99179012, -0.94272366, -1.05304763]), -3.8677707421578926)\n",
        "Winner after generation 7 : (array([-0.98088075, -1.03494639, -0.99179012, -0.94272366, -1.05304763]), -4.56395601696479)\n",
        "\n",
        "...\n",
        "\n",
        "Winner after generation 24 : (array([-0.98088075, -0.99354853, -0.99179012, -0.94272366, -1.01092573]), -4.748795961685159)\n",
        "\n",
        "Absolute winner:\n",
        "(array([-0.98088075, -0.99354853, -0.99179012, -0.94272366, -1.01092573]),\n",
        " -4.748795961685159)\n",
        "````\n"
      ]
    },
    {
      "cell_type": "code",
      "metadata": {
        "id": "AUlxZxLzNtvC"
      },
      "source": [
        "def runGA(npop, ngenes, limits, fitness, nelitism, mutp, ngenerations):\n",
        "  pop_0 = generate_random_population(npop, limits, ngenes)\n",
        "  sorted_pop_with_score = eval_pop(pop_0, fitness)\n",
        "  new_pop = np.array([p[0] for p in sorted_pop_with_score])\n",
        "  \n",
        "  \n",
        "\n",
        "    # TO DO: Complete your GA!\n",
        "  def make_couples(pop):\n",
        "    N=len(pop)-1\n",
        "    p1 = pop[random.randint(0,N)]\n",
        "    p2 = pop[random.randint(0,N)]\n",
        "    while((p1==p2).all()):\n",
        "        p2 =random.choice(pop)\n",
        "    return (p1,p2)\n",
        "\n",
        "  def make_list_couples(pop,n):\n",
        "    couples=[]\n",
        "    for elem in range(n):\n",
        "        c_i=make_couples(pop)\n",
        "        couples.append(c_i)\n",
        "    return couples\n",
        "  generation=[]\n",
        "  for g in range(ngenerations):\n",
        "    lg = make_list_couples(new_pop[nelitism:],npop)\n",
        "    generation=get_offspring(lg,mutp,limits)\n",
        "    winner= eval_pop(generation, fitness)\n",
        "    new_pop = np.array([p[0] for p in winner])\n",
        "    if sorted_pop_with_score[0][1]<=winner[0][1]:\n",
        "      print(g)\n",
        "      sorted_pop_with_score=winner\n",
        "    \n",
        "\n",
        "\n",
        "  \n",
        "    # END OF TO DO\n",
        "    \n",
        "    print(\"Winner after generation\", g, \":\",winner[0])\n",
        "\n",
        "  print(\"Absolute winner:\")\n",
        "  return sorted_pop_with_score[0]"
      ],
      "execution_count": 211,
      "outputs": []
    },
    {
      "cell_type": "code",
      "metadata": {
        "colab": {
          "base_uri": "https://localhost:8080/"
        },
        "id": "zMvlJMIAQjGS",
        "outputId": "c27e44cb-ce69-4923-b0d7-3b1a14556f54"
      },
      "source": [
        "runGA(1000, 5, list(zip(np.ones(5)*-2,np.ones(5)*2)), fopt13, 4, 0.4, 24)"
      ],
      "execution_count": 213,
      "outputs": [
        {
          "output_type": "stream",
          "text": [
            "Winner after generation 0 : (array([ 0.        ,  0.        , -0.75775829, -1.01585819, -0.53441845]), -1.2146051684044303)\n",
            "Winner after generation 1 : (array([ 0.        ,  0.        , -0.75338013, -0.97395805, -0.31791061]), -0.9952030645389192)\n",
            "Winner after generation 2 : (array([ 0.        ,  0.        , -1.17611161, -0.84537467, -0.78077986]), -0.6467983490845359)\n",
            "3\n",
            "Winner after generation 3 : (array([ 0.        ,  0.        , -0.30516249, -0.71739955, -0.00433493]), -0.4420522792179131)\n",
            "4\n",
            "Winner after generation 4 : (array([ 0.        ,  0.        , -0.44226659,  0.00831937, -0.44786259]), -0.2689169388543927)\n",
            "5\n",
            "Winner after generation 5 : (array([ 0.        ,  0.        ,  0.35132403, -0.33473193, -0.97953448]), -0.25888024206172433)\n",
            "6\n",
            "Winner after generation 6 : (array([ 0.        ,  0.        ,  0.36596253, -0.33473193, -0.97953448]), -0.24929009641105337)\n",
            "7\n",
            "Winner after generation 7 : (array([ 0.        ,  0.        ,  0.36596253, -0.33473193, -0.97953448]), -0.24929009641105337)\n",
            "8\n",
            "Winner after generation 8 : (array([-1.24093054, -0.02991569,  0.13858363,  0.07018409, -0.41238905]), -0.0852695277584079)\n",
            "9\n",
            "Winner after generation 9 : (array([ 0.        ,  0.        , -1.03311235, -0.12458795, -0.29376315]), -0.028241397654496847)\n",
            "10\n",
            "Winner after generation 10 : (array([ 0.        ,  0.        ,  0.36596253, -0.26778554, -1.22441809]), 0.01841843424549383)\n",
            "Winner after generation 11 : (array([ 0.        ,  0.        ,  0.29277003, -0.33473193, -0.97953448]), -0.2878839371848443)\n",
            "Winner after generation 12 : (array([ 0.        ,  0.        ,  0.29277003, -0.33473193, -0.97953448]), -0.2878839371848443)\n",
            "Winner after generation 13 : (array([ 0.        ,  0.        ,  0.39170751, -0.76491785, -0.92730646]), -0.08946192989308366)\n",
            "Winner after generation 14 : (array([ 0.        ,  0.        , -0.99178785, -0.09967036, -0.29376315]), -0.059668254960159706)\n",
            "Winner after generation 15 : (array([ 0.        ,  0.        ,  0.36596253, -0.48201397, -0.97953448]), -0.22698562549999501)\n",
            "16\n",
            "Winner after generation 16 : (array([ 0.        ,  0.        , -0.12778605, -0.86775159,  0.31046427]), 0.12945626974238855)\n",
            "Winner after generation 17 : (array([ 0.        ,  0.        , -0.42886941, -1.05719524, -0.09215973]), -0.18289710081255883)\n",
            "18\n",
            "Winner after generation 18 : (array([ 0.        ,  0.        , -1.28      , -0.13257149, -0.03103072]), 0.22089341420767994)\n",
            "Winner after generation 19 : (array([ 0.        ,  0.        , -0.67010845, -1.05719524, -0.1382396 ]), -0.2780657701180038)\n",
            "Winner after generation 20 : (array([ 0.        ,  0.        , -0.07851175, -0.86775159,  0.31046427]), 0.15384457573814458)\n",
            "Winner after generation 21 : (array([ 0.        ,  0.        , -0.67010845, -1.05719524, -0.1382396 ]), -0.2780657701180038)\n",
            "Winner after generation 22 : (array([ 0.        ,  0.        , -0.30246486,  0.38488394, -0.37245574]), 0.1912629793364672)\n",
            "Winner after generation 23 : (array([ 0.        ,  0.        , -1.13252958, -1.02945384, -0.87601616]), -1.0414444073787865)\n",
            "Absolute winner:\n"
          ],
          "name": "stdout"
        },
        {
          "output_type": "execute_result",
          "data": {
            "text/plain": [
              "(array([ 0.        ,  0.        , -1.28      , -0.13257149, -0.03103072]),\n",
              " 0.22089341420767994)"
            ]
          },
          "metadata": {
            "tags": []
          },
          "execution_count": 213
        }
      ]
    },
    {
      "cell_type": "markdown",
      "metadata": {
        "id": "k0w3djfc7cap"
      },
      "source": [
        "**RAZONAMIENTO Y JUSTIFICACIÓN:**\n",
        "\n",
        "*Explicar aquí vuestro razonamiento*"
      ]
    },
    {
      "cell_type": "markdown",
      "metadata": {
        "id": "tXHzIdRx8bvK"
      },
      "source": [
        "<hr>"
      ]
    },
    {
      "cell_type": "markdown",
      "metadata": {
        "id": "eoHrnH87s1xT"
      },
      "source": [
        "## EJERCICIO 4"
      ]
    },
    {
      "cell_type": "markdown",
      "metadata": {
        "id": "LX-B5KZQs1xg"
      },
      "source": [
        "Ya disponemos de un GA implementado. Ahora vamos a ponerlo a prueba y razonar sobre su comportamiento y características.\n"
      ]
    },
    {
      "cell_type": "markdown",
      "metadata": {
        "id": "J5LyRnVCtN6K"
      },
      "source": [
        "**4.a) (1 PUNTO) Realizad varias ejecuciones del algoritmo para tratar de optimizar las funciones *fopt1, fopt8 y fopt13* proporcionadas en el ejercicio 1. Utilizad diferentes combinaciones de parámetros que afecten al proceso evolutivo y explicad la influencia de cada uno de ellos según los valores que les asignáis.**\n",
        "\n",
        "**Considerad la descripción que se da de cada una de las funciones en el artículo referenciado. Esto os ayudará a evaluar el rendimiento de vuestro algoritmo en función del valor de sus parámetros. Fijáos en los valores mínimos teóricos que se indican.**\n",
        "\n",
        "**NOTA: Podéis fijar *ngenes* con valor 5 para vuestros análisis.**\n",
        "\n",
        "**NOTA 2: Prestad atención a los dominios de las funciones indicados en el artículo a la hora de fijar los límites: para *fopt1* y *fopt13* los límites son -2 y 2, mientras que para *fopt8* los límites son -3 y 3.**"
      ]
    },
    {
      "cell_type": "markdown",
      "metadata": {
        "id": "wgSvoEsy8CxM"
      },
      "source": [
        "**Respuesta:**\n",
        "*Indicad aquí vuestra respuesta*"
      ]
    },
    {
      "cell_type": "markdown",
      "metadata": {
        "id": "p4bKv0B-uyfE"
      },
      "source": [
        "**4.b) (0.5 PUNTOS) ¿Cuál es la condición de finalización de nuestro GA en su estado actual? Explicad una alternativa razonable para finalizar la ejecución el algoritmo, justificando los motivos para implementarla, sus características, así como precauciones, ventajas y desventajas que pueda presentar.**\n",
        "\n",
        "\n",
        "**NOTA: No hace falta implementar ningún código, pero sí justificar adecuadamente la respuesta.**"
      ]
    },
    {
      "cell_type": "markdown",
      "metadata": {
        "id": "dyt43URV8Fxe"
      },
      "source": [
        "**Respuesta:**\n",
        "*Indicad aquí vuestra respuesta*"
      ]
    },
    {
      "cell_type": "markdown",
      "metadata": {
        "id": "9CVb5X_uv_y7"
      },
      "source": [
        "**4.c) (0.5 PUNTOS) ¿Qué modificaciones haría falta realizar para que nuestro GA aceptase tanto problemas de maximización como de minimización?**\n",
        "\n",
        "**NOTA: No hace falta implementar ningún código, pero sí justificar adecuadamente la respuesta.**"
      ]
    },
    {
      "cell_type": "markdown",
      "metadata": {
        "id": "6_I1uBN_8JGj"
      },
      "source": [
        "**Respuesta:**\n",
        "*Indicad aquí vuestra respuesta*"
      ]
    },
    {
      "cell_type": "markdown",
      "metadata": {
        "id": "3dicXnHOw3zl"
      },
      "source": [
        "**4.d) (0.5 PUNTOS) Se nos plantea que modifiquemos nuestro GA para que sea multiobjetivo. Es decir, que tenga en cuenta 2 funciones *fitness* a la hora de evaluar una solución, pudiendo requerir minimizar ambas, maximizar ambas, o minimizar una y maximizar la otra. ¿Qué modificaciones deberíamos implementar para conseguirlo?**\n",
        "\n",
        "**NOTA: No hace falta implementar ningún código, pero sí justificar adecuadamente la respuesta.**"
      ]
    },
    {
      "cell_type": "markdown",
      "metadata": {
        "id": "IMq0N6Wc8LdA"
      },
      "source": [
        "**Respuesta:**\n",
        "*Indicad aquí vuestra respuesta*"
      ]
    }
  ]
}